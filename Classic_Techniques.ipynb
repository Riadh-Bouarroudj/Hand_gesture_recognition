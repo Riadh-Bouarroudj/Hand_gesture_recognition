{
  "cells": [
    {
      "cell_type": "markdown",
      "metadata": {
        "id": "zXEqmQGjnnMf"
      },
      "source": [
        "#Requirements"
      ]
    },
    {
      "cell_type": "code",
      "execution_count": null,
      "metadata": {
        "collapsed": true,
        "id": "fDUugCk9EPRu"
      },
      "outputs": [],
      "source": [
        "!pip install scikit-image\n",
        "!pip install opencv-python-headless\n",
        "!pip install numpy\n",
        "!pip install pandas\n",
        "!pip install matplotlib\n",
        "!pip install scikit-learn\n",
        "!pip install feature-engine\n",
        "!pip install scipy"
      ]
    },
    {
      "cell_type": "markdown",
      "metadata": {
        "id": "Pb86gH1luLNJ"
      },
      "source": [
        "#Imports"
      ]
    },
    {
      "cell_type": "code",
      "execution_count": 2,
      "metadata": {
        "id": "8AXOJFtxXswD"
      },
      "outputs": [],
      "source": [
        "import numpy as np\n",
        "import cv2\n",
        "import pandas as pd\n",
        "import matplotlib.pyplot as plt\n",
        "import glob\n",
        "import os\n",
        "import random\n",
        "\n",
        "from skimage.color import rgb2hsv, rgb2ycbcr\n",
        "from skimage.transform import resize\n",
        "from skimage.feature import hog\n",
        "\n",
        "from scipy.ndimage import rotate\n",
        "from feature_engine.selection import DropConstantFeatures,SmartCorrelatedSelection\n",
        "\n",
        "from sklearn.model_selection import train_test_split,learning_curve,GridSearchCV,ShuffleSplit, cross_validate\n",
        "from sklearn.preprocessing import StandardScaler\n",
        "from sklearn.neighbors import KNeighborsClassifier\n",
        "from sklearn.metrics import classification_report, confusion_matrix, cohen_kappa_score, roc_auc_score\n",
        "from sklearn.ensemble import AdaBoostClassifier,RandomForestClassifier\n",
        "from sklearn import metrics\n",
        "from sklearn.decomposition import PCA\n",
        "from sklearn.svm import SVC\n",
        "\n",
        "import warnings\n",
        "def ignore_warn(*args, **kwargs):\n",
        "    pass\n",
        "warnings.warn = ignore_warn\n",
        "\n"
      ]
    },
    {
      "cell_type": "code",
      "execution_count": 3,
      "metadata": {
        "id": "PLhm_4TSln_G",
        "colab": {
          "base_uri": "https://localhost:8080/"
        },
        "outputId": "d0420ab8-6d65-41a8-e280-286a4f2b60bd"
      },
      "outputs": [
        {
          "output_type": "stream",
          "name": "stdout",
          "text": [
            "Mounted at /content/drive\n"
          ]
        }
      ],
      "source": [
        "from google.colab import drive\n",
        "drive.mount('/content/drive')"
      ]
    },
    {
      "cell_type": "markdown",
      "metadata": {
        "id": "Wb_6J-PmxFi2"
      },
      "source": [
        "# Data preparation"
      ]
    },
    {
      "cell_type": "markdown",
      "metadata": {
        "id": "IwT-e-zXEfTK"
      },
      "source": [
        "## Transform the videos into image features"
      ]
    },
    {
      "cell_type": "code",
      "source": [
        "#For potential data augmentation\n",
        "\"\"\"def rotation(image, seed=777,rota=0):\n",
        "    random.seed(seed)\n",
        "    angle= rota\n",
        "    r_img = rotate(image, angle, mode='reflect', reshape=False, order=0)\n",
        "    return r_img\n",
        "\n",
        "def v_transl(image, seed=777,decalage=0):\n",
        "    random.seed(seed)\n",
        "    n_pixels = decalage\n",
        "    vtranslated_img = np.roll(image, n_pixels, axis=0)\n",
        "    return vtranslated_img\n",
        "\n",
        "def h_transl(image, seed=777,decalage=0):\n",
        "    random.seed(seed)\n",
        "    n_pixels = decalage\n",
        "    htranslated_img = np.roll(image, n_pixels, axis=1)\n",
        "    return htranslated_img\"\"\""
      ],
      "metadata": {
        "id": "PNLy3_jLYaAu"
      },
      "execution_count": null,
      "outputs": []
    },
    {
      "cell_type": "code",
      "execution_count": 4,
      "metadata": {
        "colab": {
          "base_uri": "https://localhost:8080/"
        },
        "id": "ShfClELhwsxM",
        "outputId": "b033905b-050e-4a6b-c102-f51c9febf39a"
      },
      "outputs": [
        {
          "output_type": "stream",
          "name": "stdout",
          "text": [
            "subject_5\n",
            "subject_4\n",
            "subject_3\n",
            "subject_1\n",
            "subject_2\n",
            "6029\n",
            "6029\n"
          ]
        }
      ],
      "source": [
        "label2int = {\n",
        "    'dislike' : 0,\n",
        "    'like' : 1,\n",
        "    'ok' : 2,\n",
        "    'point' : 3,\n",
        "    'slide_1' : 4,\n",
        "    'slide_2' : 5,\n",
        "    'take_a_picture' : 6\n",
        "}\n",
        "\n",
        "X_set = []\n",
        "Y_set = []\n",
        "for path_director in glob.glob('/content/drive/MyDrive/demo_room/*'):\n",
        "\n",
        "  label1 = path_director.split('/')[-1]\n",
        "  print(label1)\n",
        "  for image_path in glob.glob(path_director+'/*'):\n",
        "      cap=cv2.VideoCapture(image_path)\n",
        "\n",
        "      label = image_path.split('/')[-1].split('_')[0]\n",
        "      if label=='slide' or label=='take'  :\n",
        "        label=label+'_'+image_path.split('/')[-1].split('_')[1]\n",
        "        if label=='take_a':\n",
        "          label=label+'_'+image_path.split('/')[-1].split('_')[2]\n",
        "      nb=0\n",
        "      while cap.isOpened():\n",
        "\n",
        "        imageId=cap.get(1)\n",
        "        ret,image=cap.read()\n",
        "        if ret !=True:\n",
        "          break\n",
        "\n",
        "        if imageId != 0 and imageId % 4 == 0:\n",
        "            nb=nb+1\n",
        "            image=cv2.cvtColor(image , cv2.COLOR_BGR2RGB)\n",
        "\n",
        "            if image.ndim==3:\n",
        "              image = cv2.GaussianBlur(image, (5,5) , 100)\n",
        "              red , green , blue = image[:,:,0] ,image[:,:,1] , image[:,:,2]\n",
        "\n",
        "              #get the HSV version\n",
        "              image_hsv = rgb2hsv(image)\n",
        "              hue = image_hsv[:,:,0]\n",
        "              sat = image_hsv[:,:,1]\n",
        "\n",
        "              #get the ycbcr version\n",
        "              image_ycbcr = rgb2ycbcr(image)\n",
        "              y = image_ycbcr[:,:,0]\n",
        "              cb = image_ycbcr[:,:,1]\n",
        "              cr = image_ycbcr[:,:,2]\n",
        "\n",
        "              \"\"\"#HSV+RBGA mask for hand extraction\n",
        "              mask = (hue>=0) & (hue<=0.13888) & (sat>=0.23) & (sat<=0.68) & (red>95) & (green > 40) & (blue > 20) & (red > green) & (red > blue) & (np.abs(red - green) > 15)\n",
        "              \"\"\"\n",
        "              #YCBCR+RGBA mask for hand extraction\n",
        "              mask = (red > 95) & (green > 40) & (blue > 20) & (red > green) & (red > blue) & (np.abs(red - green) > 15) & (cr > 135) & (cb > 85) & (y > 80) & (cr <= (1.5862*cb)+20) & (cr >= (0.3448*cb)+76.2069) & (cr >= (-4.5652*cb)+234.5652) & (cr <= (-1.15 * cb)+301.75) & (cr <= (-2.2857*cb)+432.85)\n",
        "\n",
        "              mask = mask.astype(np.uint8)\n",
        "              mask[mask == 1] = 255\n",
        "              np.sum(mask == 255)\n",
        "\n",
        "\n",
        "              kernel = np.ones((5,5), np.uint8)\n",
        "              mask1 = cv2.erode(mask , kernel , iterations=2)\n",
        "              image = cv2.dilate(mask1 , kernel , iterations=4)\n",
        "              image=resize(image,(128,128))\n",
        "\n",
        "              #feature extraction\n",
        "              #Hog coefficients\n",
        "              fd, _ = hog(image, orientations=9, pixels_per_cell=(8, 8), cells_per_block=(2, 2), visualize=True)\n",
        "              #Hu moments\n",
        "              hu_moments = cv2.HuMoments(cv2.moments(image)).flatten()\n",
        "              x = np.hstack((fd,hu_moments))\n",
        "\n",
        "              X_set.append(x)\n",
        "              Y_set.append(label2int[label])\n",
        "print(len(X_set))\n",
        "print(len(Y_set))\n"
      ]
    },
    {
      "cell_type": "markdown",
      "metadata": {
        "id": "DAuIuIrPY1u6"
      },
      "source": [
        "##Save the obtained data"
      ]
    },
    {
      "cell_type": "code",
      "execution_count": 5,
      "metadata": {
        "colab": {
          "base_uri": "https://localhost:8080/"
        },
        "id": "j1c7YFKKY0gf",
        "outputId": "57738b5a-1031-4005-aae8-fe004bc6cf6d"
      },
      "outputs": [
        {
          "output_type": "execute_result",
          "data": {
            "text/plain": [
              "6029"
            ]
          },
          "metadata": {},
          "execution_count": 5
        }
      ],
      "source": [
        "np.savetxt(\"X_Data.txt\", X_set, delimiter=\" \")\n",
        "\n",
        "with open(\"Y_Data.txt\", \"w\") as f:\n",
        "    for s in Y_set:\n",
        "        f.write(str(s) +\"\\n\")\n",
        "\n",
        "len(X_set)"
      ]
    },
    {
      "cell_type": "code",
      "execution_count": 6,
      "metadata": {
        "colab": {
          "base_uri": "https://localhost:8080/"
        },
        "id": "2cdCSGr2sOR1",
        "outputId": "41c31015-b664-4b3e-d7c4-6bebb7ecc8ef"
      },
      "outputs": [
        {
          "output_type": "stream",
          "name": "stdout",
          "text": [
            "(6029, 3787) (6029, 1)\n"
          ]
        }
      ],
      "source": [
        "url=\"/content/X_Data.txt\"\n",
        "url2=\"/content/Y_Data.txt\"\n",
        "names = []\n",
        "for i in range (1,3788):\n",
        "  names.append('Col_'+str(i))\n",
        "X=pd.read_csv(url,names=names,delim_whitespace=True)\n",
        "names2=[\"classe\"]\n",
        "Y=pd.read_csv(url2,names=names2)\n",
        "print(X.shape,Y.shape)"
      ]
    },
    {
      "cell_type": "markdown",
      "metadata": {
        "id": "2Yb7mQkVPIDQ"
      },
      "source": [
        "##Split into train and test sets\n",
        "\n",
        "\n"
      ]
    },
    {
      "cell_type": "code",
      "execution_count": 7,
      "metadata": {
        "colab": {
          "base_uri": "https://localhost:8080/"
        },
        "id": "vLzfKeQPDqVc",
        "outputId": "f6e1bc7d-e9fa-490f-d1ba-ddd1b32a067a"
      },
      "outputs": [
        {
          "output_type": "stream",
          "name": "stdout",
          "text": [
            "(4823, 3787) (1206, 3787) (4823, 1) (1206, 1)\n"
          ]
        }
      ],
      "source": [
        "X_train,X_test,Y_train,Y_test= train_test_split(X, Y, test_size=0.2, shuffle=True, random_state=123, stratify=Y )\n",
        "\n",
        "scaler=StandardScaler()\n",
        "scaler.fit(X_train)\n",
        "X_train=scaler.transform(X_train)\n",
        "X_test=scaler.transform(X_test)\n",
        "\n",
        "X_train = pd.DataFrame(X_train)\n",
        "X_test = pd.DataFrame(X_test)\n",
        "print(X_train.shape, X_test.shape, Y_train.shape,Y_test.shape)"
      ]
    },
    {
      "cell_type": "markdown",
      "metadata": {
        "id": "XsDySt-Z45Xi"
      },
      "source": [
        "##Feature selection"
      ]
    },
    {
      "cell_type": "code",
      "execution_count": 8,
      "metadata": {
        "colab": {
          "base_uri": "https://localhost:8080/"
        },
        "id": "yG8SwXerxZES",
        "outputId": "4db478ef-f596-41af-91a2-f3d07463477b"
      },
      "outputs": [
        {
          "output_type": "stream",
          "name": "stdout",
          "text": [
            "1851\n",
            "(4823, 1936) (1206, 1936)\n"
          ]
        }
      ],
      "source": [
        "transformer = DropConstantFeatures(tol=0.95)\n",
        "transformer.fit(pd.DataFrame(X_train))\n",
        "X_train = transformer.transform(pd.DataFrame(X_train))\n",
        "X_test = transformer.transform(pd.DataFrame(X_test))\n",
        "\n",
        "print(len(transformer.features_to_drop_))\n",
        "print(X_train.shape,X_test.shape)"
      ]
    },
    {
      "cell_type": "code",
      "execution_count": 9,
      "metadata": {
        "colab": {
          "base_uri": "https://localhost:8080/"
        },
        "id": "YRyP0jzQ0dsp",
        "outputId": "db6b404e-4c7b-47f4-8b2a-a2dc441c6c93"
      },
      "outputs": [
        {
          "output_type": "stream",
          "name": "stdout",
          "text": [
            "1043\n",
            "(4823, 893) (1206, 893)\n"
          ]
        }
      ],
      "source": [
        "transformer = SmartCorrelatedSelection(estimator=KNeighborsClassifier(), scoring='accuracy', cv=5)\n",
        "transformer.fit(X_train)\n",
        "X_train = transformer.transform(X_train)\n",
        "X_test = transformer.transform(X_test)\n",
        "\n",
        "print(len(transformer.features_to_drop_))\n",
        "print(X_train.shape,X_test.shape)"
      ]
    },
    {
      "cell_type": "code",
      "execution_count": 10,
      "metadata": {
        "colab": {
          "base_uri": "https://localhost:8080/"
        },
        "id": "egm0O8dnbAFU",
        "outputId": "93692859-c373-4b3f-8f85-5925b0a313e3"
      },
      "outputs": [
        {
          "output_type": "stream",
          "name": "stdout",
          "text": [
            "(4823, 547) (1206, 547) (4823, 1) (1206, 1)\n"
          ]
        }
      ],
      "source": [
        "pca = PCA(n_components=0.95, svd_solver='full')\n",
        "X_train = pca.fit_transform(X_train)\n",
        "X_test = pca.transform(X_test)\n",
        "\n",
        "print(X_train.shape, X_test.shape, Y_train.shape , Y_test.shape)"
      ]
    },
    {
      "cell_type": "markdown",
      "metadata": {
        "id": "Kcx6QSlCHTa3"
      },
      "source": [
        "#Machine learning techniques"
      ]
    },
    {
      "cell_type": "markdown",
      "metadata": {
        "id": "MOSYI_7ZX7xh"
      },
      "source": [
        "## k-Nearest Neighbors (KNN)"
      ]
    },
    {
      "cell_type": "markdown",
      "metadata": {
        "id": "CaPMujk3_gHh"
      },
      "source": [
        "###Hyperparameter tuning"
      ]
    },
    {
      "cell_type": "code",
      "execution_count": 11,
      "metadata": {
        "colab": {
          "base_uri": "https://localhost:8080/"
        },
        "id": "12Kon3mQbCvU",
        "outputId": "ab87d5ec-b820-49c8-824f-8043e14a5105"
      },
      "outputs": [
        {
          "output_type": "stream",
          "name": "stdout",
          "text": [
            "0.7441412518407754\n",
            "{'metric': 'euclidean', 'n_neighbors': 1}\n"
          ]
        }
      ],
      "source": [
        "param={'n_neighbors':np.arange(1,20),'metric':['euclidean','manhattan']}\n",
        "grid=GridSearchCV(KNeighborsClassifier(),param,cv=3)\n",
        "grid.fit(X_train,Y_train)\n",
        "\n",
        "print(grid.best_score_)\n",
        "print(grid.best_params_)"
      ]
    },
    {
      "cell_type": "markdown",
      "metadata": {
        "id": "FagVaLqBATmC"
      },
      "source": [
        "###Cross Validation"
      ]
    },
    {
      "cell_type": "code",
      "execution_count": 12,
      "metadata": {
        "colab": {
          "base_uri": "https://localhost:8080/",
          "height": 678
        },
        "id": "a_OEZycprvpg",
        "outputId": "83ad54eb-4939-4c7d-85fa-78a353f38180"
      },
      "outputs": [
        {
          "output_type": "display_data",
          "data": {
            "text/plain": [
              "<Figure size 1200x800 with 1 Axes>"
            ],
            "image/png": "[encoded data removed]"
          },
          "metadata": {}
        },
        {
          "output_type": "execute_result",
          "data": {
            "text/plain": [
              "(array([0.99792316, 0.9847071 , 0.98266667, 0.98278901]),\n",
              " array([0.4787444 , 0.65394739, 0.71967493, 0.74414125]))"
            ]
          },
          "metadata": {},
          "execution_count": 12
        }
      ],
      "source": [
        "Model_KNN=KNeighborsClassifier(n_neighbors=1,p=2)\n",
        "\n",
        "N, train_val, test_val = learning_curve(Model_KNN,X_train ,Y_train,cv=3,train_sizes=np.linspace(0.1,1,4),scoring='accuracy')\n",
        "plt.figure(figsize=(12,8))\n",
        "plt.plot(N, train_val.mean(axis = 1), label='train')\n",
        "plt.plot(N, test_val.mean(axis = 1), label='validation')\n",
        "plt.legend()\n",
        "plt.show()\n",
        "train_val.mean(axis=1), test_val.mean(axis=1)"
      ]
    },
    {
      "cell_type": "markdown",
      "metadata": {
        "id": "QnG-qzqx_wW5"
      },
      "source": [
        "###Training and testing"
      ]
    },
    {
      "cell_type": "code",
      "execution_count": 13,
      "metadata": {
        "colab": {
          "base_uri": "https://localhost:8080/"
        },
        "id": "bryaxf6tIn7e",
        "outputId": "7fc119af-4e22-4682-9251-43235d4f1415"
      },
      "outputs": [
        {
          "output_type": "stream",
          "name": "stdout",
          "text": [
            "              precision    recall  f1-score   support\n",
            "\n",
            "           0       0.79      0.74      0.77       198\n",
            "           1       0.80      0.84      0.82       184\n",
            "           2       0.73      0.82      0.77       190\n",
            "           3       0.75      0.79      0.77       180\n",
            "           4       0.62      0.68      0.65       118\n",
            "           5       0.67      0.68      0.68       114\n",
            "           6       0.95      0.77      0.85       222\n",
            "\n",
            "    accuracy                           0.77      1206\n",
            "   macro avg       0.76      0.76      0.76      1206\n",
            "weighted avg       0.78      0.77      0.77      1206\n",
            "\n",
            "[[147   6   8  16  12   6   3]\n",
            " [  3 154   9   6   6   5   1]\n",
            " [  4   8 156  11   6   4   1]\n",
            " [  6   8  16 142   4   4   0]\n",
            " [  3   6  10   5  80  10   4]\n",
            " [ 11   5   2   4  14  78   0]\n",
            " [ 12   5  12   6   8   9 170]]\n",
            "Kappa score 0.7284984846382014\n",
            "Roc score 0.8606146756843204\n"
          ]
        }
      ],
      "source": [
        "Model_KNN.fit(X_train,Y_train)\n",
        "\n",
        "Y_pred_KNN=Model_KNN.predict(X_test)\n",
        "print(classification_report(Y_test,Y_pred_KNN))\n",
        "print(confusion_matrix(Y_test, Y_pred_KNN))\n",
        "\n",
        "kappa = cohen_kappa_score(Y_test, Y_pred_KNN)\n",
        "print(\"Kappa score\", kappa)\n",
        "\n",
        "roc = roc_auc_score(Y_test, Model_KNN.predict_proba(X_test), multi_class ='ovr')\n",
        "print(\"Roc score\", roc)"
      ]
    },
    {
      "cell_type": "markdown",
      "metadata": {
        "id": "2lfZnOaefezo"
      },
      "source": [
        "\n",
        "## Support Vector Machine (SVM)"
      ]
    },
    {
      "cell_type": "markdown",
      "metadata": {
        "id": "iyKrn7P-zaSp"
      },
      "source": [
        "###Cross Validation"
      ]
    },
    {
      "cell_type": "code",
      "execution_count": 14,
      "metadata": {
        "colab": {
          "base_uri": "https://localhost:8080/",
          "height": 673
        },
        "id": "oq6_8cvEejHo",
        "outputId": "6d911c56-29a2-4367-b751-c4c8a070dd03"
      },
      "outputs": [
        {
          "output_type": "display_data",
          "data": {
            "text/plain": [
              "<Figure size 1200x800 with 1 Axes>"
            ],
            "image/png": "[encoded data removed]"
          },
          "metadata": {}
        },
        {
          "output_type": "execute_result",
          "data": {
            "text/plain": [
              "(array([0.87746625, 0.83229653, 0.83125926, 0.83566615]),\n",
              " array([0.53390071, 0.67115818, 0.72402868, 0.75036106]))"
            ]
          },
          "metadata": {},
          "execution_count": 14
        }
      ],
      "source": [
        "Model_SVM = SVC(C=30.3, kernel='rbf', gamma=2e-5)\n",
        "\n",
        "N, train_val, test_val = learning_curve(Model_SVM, X_train, Y_train, cv=3, train_sizes=np.linspace(0.1,1,4), scoring='accuracy')\n",
        "plt.figure(figsize=(12,8))\n",
        "plt.plot(N, train_val.mean(axis = 1), label='train')\n",
        "plt.plot(N, test_val.mean(axis = 1), label='validation')\n",
        "plt.legend()\n",
        "plt.show()\n",
        "train_val.mean(axis=1), test_val.mean(axis=1)"
      ]
    },
    {
      "cell_type": "markdown",
      "metadata": {
        "id": "mTUTukJ1ziJU"
      },
      "source": [
        "###Training and testing"
      ]
    },
    {
      "cell_type": "code",
      "execution_count": 15,
      "metadata": {
        "colab": {
          "base_uri": "https://localhost:8080/"
        },
        "id": "1uWmkXnIy36Q",
        "outputId": "92d8c915-0926-45c3-e968-fe1138ec7714"
      },
      "outputs": [
        {
          "output_type": "stream",
          "name": "stdout",
          "text": [
            "              precision    recall  f1-score   support\n",
            "\n",
            "           0       0.87      0.78      0.82       198\n",
            "           1       0.78      0.78      0.78       184\n",
            "           2       0.72      0.73      0.73       190\n",
            "           3       0.65      0.74      0.69       180\n",
            "           4       0.72      0.53      0.61       118\n",
            "           5       0.53      0.76      0.62       114\n",
            "           6       0.96      0.84      0.90       222\n",
            "\n",
            "    accuracy                           0.75      1206\n",
            "   macro avg       0.75      0.74      0.74      1206\n",
            "weighted avg       0.77      0.75      0.76      1206\n",
            "\n",
            "[[154   3   6   9   2  19   5]\n",
            " [  1 143   9  21   1   9   0]\n",
            " [  3  12 139  22   6   8   0]\n",
            " [  3   9  16 134   4  14   0]\n",
            " [  3   8  17  12  63  13   2]\n",
            " [  9   7   2   3   6  87   0]\n",
            " [  4   2   4   5   5  15 187]]\n",
            "Kappa score 0.7091139363040883\n",
            "Roc score 0.8606146756843204\n"
          ]
        }
      ],
      "source": [
        "Model_SVM.fit(X_train, Y_train)\n",
        "\n",
        "Y_pred_SVM = Model_SVM.predict(X_test)\n",
        "\n",
        "print(classification_report(Y_test, Y_pred_SVM))\n",
        "print(confusion_matrix(Y_test, Y_pred_SVM))\n",
        "\n",
        "kappa = cohen_kappa_score(Y_test, Y_pred_SVM)\n",
        "print(\"Kappa score\", kappa)\n",
        "\n",
        "roc = roc_auc_score(Y_test, Model_KNN.predict_proba(X_test), multi_class ='ovr')\n",
        "print(\"Roc score\", roc)\n",
        "\n"
      ]
    },
    {
      "cell_type": "markdown",
      "metadata": {
        "id": "cq2z5uD-z3J3"
      },
      "source": [
        "##Random forest"
      ]
    },
    {
      "cell_type": "markdown",
      "metadata": {
        "id": "8296xPAy5qXk"
      },
      "source": [
        "###Cross validation"
      ]
    },
    {
      "cell_type": "code",
      "execution_count": 16,
      "metadata": {
        "colab": {
          "base_uri": "https://localhost:8080/",
          "height": 1000
        },
        "id": "y_wrtaPp5b0E",
        "outputId": "734865fd-dfe1-4c4f-b8f5-1510ceb0090c"
      },
      "outputs": [
        {
          "output_type": "stream",
          "name": "stderr",
          "text": [
            "/usr/local/lib/python3.10/dist-packages/sklearn/base.py:1473: DataConversionWarning: A column-vector y was passed when a 1d array was expected. Please change the shape of y to (n_samples,), for example using ravel().\n",
            "  return fit_method(estimator, *args, **kwargs)\n",
            "/usr/local/lib/python3.10/dist-packages/sklearn/base.py:1473: DataConversionWarning: A column-vector y was passed when a 1d array was expected. Please change the shape of y to (n_samples,), for example using ravel().\n",
            "  return fit_method(estimator, *args, **kwargs)\n",
            "/usr/local/lib/python3.10/dist-packages/sklearn/base.py:1473: DataConversionWarning: A column-vector y was passed when a 1d array was expected. Please change the shape of y to (n_samples,), for example using ravel().\n",
            "  return fit_method(estimator, *args, **kwargs)\n",
            "/usr/local/lib/python3.10/dist-packages/sklearn/base.py:1473: DataConversionWarning: A column-vector y was passed when a 1d array was expected. Please change the shape of y to (n_samples,), for example using ravel().\n",
            "  return fit_method(estimator, *args, **kwargs)\n",
            "/usr/local/lib/python3.10/dist-packages/sklearn/base.py:1473: DataConversionWarning: A column-vector y was passed when a 1d array was expected. Please change the shape of y to (n_samples,), for example using ravel().\n",
            "  return fit_method(estimator, *args, **kwargs)\n",
            "/usr/local/lib/python3.10/dist-packages/sklearn/base.py:1473: DataConversionWarning: A column-vector y was passed when a 1d array was expected. Please change the shape of y to (n_samples,), for example using ravel().\n",
            "  return fit_method(estimator, *args, **kwargs)\n",
            "/usr/local/lib/python3.10/dist-packages/sklearn/base.py:1473: DataConversionWarning: A column-vector y was passed when a 1d array was expected. Please change the shape of y to (n_samples,), for example using ravel().\n",
            "  return fit_method(estimator, *args, **kwargs)\n",
            "/usr/local/lib/python3.10/dist-packages/sklearn/base.py:1473: DataConversionWarning: A column-vector y was passed when a 1d array was expected. Please change the shape of y to (n_samples,), for example using ravel().\n",
            "  return fit_method(estimator, *args, **kwargs)\n",
            "/usr/local/lib/python3.10/dist-packages/sklearn/base.py:1473: DataConversionWarning: A column-vector y was passed when a 1d array was expected. Please change the shape of y to (n_samples,), for example using ravel().\n",
            "  return fit_method(estimator, *args, **kwargs)\n",
            "/usr/local/lib/python3.10/dist-packages/sklearn/base.py:1473: DataConversionWarning: A column-vector y was passed when a 1d array was expected. Please change the shape of y to (n_samples,), for example using ravel().\n",
            "  return fit_method(estimator, *args, **kwargs)\n",
            "/usr/local/lib/python3.10/dist-packages/sklearn/base.py:1473: DataConversionWarning: A column-vector y was passed when a 1d array was expected. Please change the shape of y to (n_samples,), for example using ravel().\n",
            "  return fit_method(estimator, *args, **kwargs)\n",
            "/usr/local/lib/python3.10/dist-packages/sklearn/base.py:1473: DataConversionWarning: A column-vector y was passed when a 1d array was expected. Please change the shape of y to (n_samples,), for example using ravel().\n",
            "  return fit_method(estimator, *args, **kwargs)\n"
          ]
        },
        {
          "output_type": "display_data",
          "data": {
            "text/plain": [
              "<Figure size 1200x800 with 1 Axes>"
            ],
            "image/png": "[encoded data removed]"
          },
          "metadata": {}
        },
        {
          "output_type": "execute_result",
          "data": {
            "text/plain": [
              "(array([0.99896158, 0.98548471, 0.98266667, 0.98289269]),\n",
              " array([0.44785975, 0.63632548, 0.7018425 , 0.73004274]))"
            ]
          },
          "metadata": {},
          "execution_count": 16
        }
      ],
      "source": [
        "Model_RF = RandomForestClassifier(n_estimators=400)\n",
        "\n",
        "N, train_val, test_val = learning_curve(Model_RF, X_train, Y_train, cv=3, train_sizes=np.linspace(0.1,1,4),scoring='accuracy')\n",
        "plt.figure(figsize=(12,8))\n",
        "plt.plot(N, train_val.mean(axis = 1), label='train')\n",
        "plt.plot(N, test_val.mean(axis = 1), label='validation')\n",
        "plt.legend()\n",
        "plt.show()\n",
        "train_val.mean(axis=1), test_val.mean(axis=1)"
      ]
    },
    {
      "cell_type": "markdown",
      "metadata": {
        "id": "7c0UWHE-7xli"
      },
      "source": [
        "###Training and testing"
      ]
    },
    {
      "cell_type": "code",
      "execution_count": 17,
      "metadata": {
        "colab": {
          "base_uri": "https://localhost:8080/"
        },
        "id": "x_x9Jaj27f-A",
        "outputId": "5dc7436a-d058-4be5-beaf-57d0542933cd"
      },
      "outputs": [
        {
          "output_type": "stream",
          "name": "stderr",
          "text": [
            "/usr/local/lib/python3.10/dist-packages/sklearn/base.py:1473: DataConversionWarning: A column-vector y was passed when a 1d array was expected. Please change the shape of y to (n_samples,), for example using ravel().\n",
            "  return fit_method(estimator, *args, **kwargs)\n"
          ]
        },
        {
          "output_type": "stream",
          "name": "stdout",
          "text": [
            "              precision    recall  f1-score   support\n",
            "\n",
            "           0       0.85      0.76      0.80       198\n",
            "           1       0.76      0.82      0.79       184\n",
            "           2       0.75      0.80      0.78       190\n",
            "           3       0.75      0.78      0.77       180\n",
            "           4       0.58      0.53      0.56       118\n",
            "           5       0.65      0.62      0.64       114\n",
            "           6       0.86      0.86      0.86       222\n",
            "\n",
            "    accuracy                           0.76      1206\n",
            "   macro avg       0.74      0.74      0.74      1206\n",
            "weighted avg       0.76      0.76      0.76      1206\n",
            "\n",
            "[[151   4   3  11   8  10  11]\n",
            " [  3 150  11  10   5   2   3]\n",
            " [  5  11 152  10   5   5   2]\n",
            " [  4  11  15 141   3   3   3]\n",
            " [  5   7  17  10  63   9   7]\n",
            " [ 10   7   0   4  16  71   6]\n",
            " [  0   7   4   2   8   9 192]]\n",
            "Kappa score 0.7209024571420248\n",
            "Roc score 0.8606146756843204\n"
          ]
        }
      ],
      "source": [
        "Model_RF.fit(X_train, Y_train)\n",
        "Y_pred_RF = Model_RF.predict(X_test)\n",
        "\n",
        "print(classification_report(Y_test , Y_pred_RF))\n",
        "print(confusion_matrix(Y_test , Y_pred_RF))\n",
        "\n",
        "kappa = cohen_kappa_score(Y_test, Y_pred_RF)\n",
        "print(\"Kappa score\", kappa)\n",
        "\n",
        "roc = roc_auc_score(Y_test, Model_KNN.predict_proba(X_test), multi_class ='ovr')\n",
        "print(\"Roc score\", roc)"
      ]
    }
  ],
  "metadata": {
    "colab": {
      "collapsed_sections": [
        "zXEqmQGjnnMf",
        "Pb86gH1luLNJ",
        "2lfZnOaefezo",
        "cq2z5uD-z3J3"
      ],
      "provenance": [],
      "toc_visible": true
    },
    "kernelspec": {
      "display_name": "Python 3",
      "name": "python3"
    }
  },
  "nbformat": 4,
  "nbformat_minor": 0
}