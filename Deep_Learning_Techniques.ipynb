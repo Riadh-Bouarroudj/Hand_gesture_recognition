{
  "nbformat": 4,
  "nbformat_minor": 0,
  "metadata": {
    "colab": {
      "provenance": [],
      "gpuType": "T4",
      "toc_visible": true
    },
    "kernelspec": {
      "display_name": "Python 3",
      "name": "python3"
    },
    "language_info": {
      "name": "python"
    },
    "accelerator": "GPU"
  },
  "cells": [
    {
      "cell_type": "markdown",
      "source": [
        "#Requirements"
      ],
      "metadata": {
        "id": "4EazC9brZDtR"
      }
    },
    {
      "cell_type": "code",
      "source": [
        "!pip install tensorflow==2.12.0\n",
        "!pip install scikit-image\n",
        "!pip install scikit-learn\n",
        "!pip install opencv-python-headless\n",
        "!pip install numpy\n",
        "!pip install matplotlib\n",
        "!pip install glob2\n",
        "!pip install pickle5\n",
        "!pip install google-colab"
      ],
      "metadata": {
        "id": "gcua68_XN1QQ"
      },
      "execution_count": null,
      "outputs": []
    },
    {
      "cell_type": "markdown",
      "metadata": {
        "id": "vD7ifqACvYuL"
      },
      "source": [
        "#Imports"
      ]
    },
    {
      "cell_type": "code",
      "metadata": {
        "id": "8-UqaUr4Y5MH"
      },
      "source": [
        "import numpy as np\n",
        "import cv2\n",
        "import matplotlib.pyplot as plt\n",
        "import glob\n",
        "import os\n",
        "import pickle\n",
        "import tensorflow\n",
        "from tensorflow import keras\n",
        "from keras import layers,models\n",
        "\n",
        "\n",
        "from skimage.io import imread, imshow\n",
        "from skimage.color import rgb2hsv, rgb2ycbcr\n",
        "from skimage.transform import resize\n",
        "\n",
        "from sklearn import metrics\n",
        "from sklearn.model_selection import train_test_split\n",
        "from sklearn.metrics import classification_report, confusion_matrix, cohen_kappa_score, roc_auc_score\n",
        "\n",
        "\n",
        "import warnings\n",
        "def ignore_warn(*args, **kwargs):\n",
        "    pass\n",
        "warnings.warn = ignore_warn\n"
      ],
      "execution_count": 58,
      "outputs": []
    },
    {
      "cell_type": "code",
      "metadata": {
        "colab": {
          "base_uri": "https://localhost:8080/"
        },
        "id": "brv2ZoGQ2Vrv",
        "outputId": "060ffff7-f78c-45e7-a9d6-c7c048227e04"
      },
      "source": [
        "from google.colab import drive\n",
        "drive.mount('/content/drive')"
      ],
      "execution_count": 3,
      "outputs": [
        {
          "output_type": "stream",
          "name": "stdout",
          "text": [
            "Mounted at /content/drive\n"
          ]
        }
      ]
    },
    {
      "cell_type": "markdown",
      "metadata": {
        "id": "q_ILJudQve9c"
      },
      "source": [
        "#Convolutional Neural Network (CNN)"
      ]
    },
    {
      "cell_type": "markdown",
      "source": [
        "##Data preparation"
      ],
      "metadata": {
        "id": "Bp3KOdqdp2yY"
      }
    },
    {
      "cell_type": "markdown",
      "source": [
        "###Extract images from the videos\n",
        "\n"
      ],
      "metadata": {
        "id": "ZUx3O4EpqGOQ"
      }
    },
    {
      "cell_type": "code",
      "source": [
        "#For potential data augmentation\n",
        "\"\"\"def rotation(image, seed=777,rota=0):\n",
        "    random.seed(seed)\n",
        "    angle= rota\n",
        "    r_img = rotate(image, angle, mode='reflect', reshape=False, order=0)\n",
        "    return r_img\n",
        "\n",
        "def v_transl(image, seed=777,decalage=0):\n",
        "    random.seed(seed)\n",
        "    n_pixels = decalage\n",
        "    vtranslated_img = np.roll(image, n_pixels, axis=0)\n",
        "    return vtranslated_img\n",
        "\n",
        "def h_transl(image, seed=777,decalage=0):\n",
        "    random.seed(seed)\n",
        "    n_pixels = decalage\n",
        "    htranslated_img = np.roll(image, n_pixels, axis=1)\n",
        "    return htranslated_img\"\"\""
      ],
      "metadata": {
        "id": "ukUDmr7J9Anp"
      },
      "execution_count": null,
      "outputs": []
    },
    {
      "cell_type": "code",
      "metadata": {
        "colab": {
          "base_uri": "https://localhost:8080/"
        },
        "id": "nuEjrMNLayPy",
        "outputId": "a83f3c8e-768d-40d9-d3ba-fc29d445ffc7"
      },
      "source": [
        "label2int = {\n",
        "    'dislike' : 0,\n",
        "    'like' : 1,\n",
        "    'ok' : 2,\n",
        "    'point' : 3,\n",
        "    'slide_1' : 4,\n",
        "    'slide_2' : 5,\n",
        "    'take_a_picture' : 6\n",
        "}\n",
        "\n",
        "X_set = []\n",
        "Y_set = []\n",
        "for path_director in glob.glob('/content/drive/MyDrive/demo_room/*'):\n",
        "\n",
        "  label1 = path_director.split('/')[-1]\n",
        "  print(label1)\n",
        "  for image_path in glob.glob(path_director+'/*'):\n",
        "      cap=cv2.VideoCapture(image_path)\n",
        "\n",
        "      label = image_path.split('/')[-1].split('_')[0]\n",
        "      if label=='slide' or label=='take'  :\n",
        "        label=label+'_'+image_path.split('/')[-1].split('_')[1]\n",
        "        if label=='take_a':\n",
        "          label=label+'_'+image_path.split('/')[-1].split('_')[2]\n",
        "      nb=0\n",
        "      while cap.isOpened():\n",
        "\n",
        "        imageId=cap.get(1)\n",
        "        ret,image=cap.read()\n",
        "        if ret !=True:\n",
        "          break\n",
        "\n",
        "        if imageId != 0 and imageId % 4 == 0:\n",
        "            nb=nb+1\n",
        "            image=cv2.cvtColor(image , cv2.COLOR_BGR2RGB)\n",
        "\n",
        "            if image.ndim==3:\n",
        "              image = cv2.GaussianBlur(image, (5,5) , 100)\n",
        "              red , green , blue = image[:,:,0] ,image[:,:,1] , image[:,:,2]\n",
        "\n",
        "              #get the HSV version\n",
        "              image_hsv = rgb2hsv(image)\n",
        "              hue = image_hsv[:,:,0]\n",
        "              sat = image_hsv[:,:,1]\n",
        "\n",
        "              #get the ycbcr version\n",
        "              image_ycbcr = rgb2ycbcr(image)\n",
        "              y = image_ycbcr[:,:,0]\n",
        "              cb = image_ycbcr[:,:,1]\n",
        "              cr = image_ycbcr[:,:,2]\n",
        "\n",
        "              \"\"\"#HSV+RBGA mask for hand extraction\n",
        "              mask = (hue>=0) & (hue<=0.13888) & (sat>=0.23) & (sat<=0.68) & (red>95) & (green > 40) & (blue > 20) & (red > green) & (red > blue) & (np.abs(red - green) > 15)\n",
        "              \"\"\"\n",
        "              #YCBCR+RGBA mask for hand extraction\n",
        "              mask = (red > 95) & (green > 40) & (blue > 20) & (red > green) & (red > blue) & (np.abs(red - green) > 15) & (cr > 135) & (cb > 85) & (y > 80) & (cr <= (1.5862*cb)+20) & (cr >= (0.3448*cb)+76.2069) & (cr >= (-4.5652*cb)+234.5652) & (cr <= (-1.15 * cb)+301.75) & (cr <= (-2.2857*cb)+432.85)\n",
        "\n",
        "              mask = mask.astype(np.uint8)\n",
        "              mask[mask == 1] = 255\n",
        "              np.sum(mask == 255)\n",
        "\n",
        "\n",
        "              kernel = np.ones((5,5), np.uint8)\n",
        "              mask1 = cv2.erode(mask , kernel , iterations=2)\n",
        "              kernel = np.ones((5,5), np.uint8)\n",
        "              image = cv2.dilate(mask1 , kernel , iterations=4)\n",
        "              image=resize(image,(128,128))\n",
        "\n",
        "              X_set.append(image)\n",
        "              Y_set.append(label2int[label])\n",
        "print(len(X_set))\n",
        "print(len(Y_set))\n"
      ],
      "execution_count": 4,
      "outputs": [
        {
          "output_type": "stream",
          "name": "stdout",
          "text": [
            "subject_5\n",
            "subject_4\n",
            "subject_3\n",
            "subject_1\n",
            "subject_2\n",
            "6029\n",
            "6029\n"
          ]
        }
      ]
    },
    {
      "cell_type": "markdown",
      "metadata": {
        "id": "Qkud5mUDvtbM"
      },
      "source": [
        "###Save the obtained data"
      ]
    },
    {
      "cell_type": "code",
      "metadata": {
        "id": "XoUz4jnmp293"
      },
      "source": [
        "X=np.array(X_set).reshape(-1,128,128,1)\n",
        "Y=np.array(Y_set)\n",
        "\n",
        "pickle_out=open(\"X_data_CNN.pickle\",\"wb\")\n",
        "pickle.dump(X,pickle_out)\n",
        "pickle_out.close()\n",
        "\n",
        "pickle_out=open(\"Y_data_CNN.pickle\",\"wb\")\n",
        "pickle.dump(Y,pickle_out)\n",
        "pickle_out.close()"
      ],
      "execution_count": 7,
      "outputs": []
    },
    {
      "cell_type": "code",
      "metadata": {
        "id": "4uuv-Jtss3pC"
      },
      "source": [
        "pickle_in1=open(\"X_data_CNN.pickle\",\"rb\")\n",
        "X_cnn=pickle.load(pickle_in1)\n",
        "\n",
        "pickle_in2=open(\"Y_data_CNN.pickle\",\"rb\")\n",
        "Y_cnn=pickle.load(pickle_in2)"
      ],
      "execution_count": 20,
      "outputs": []
    },
    {
      "cell_type": "markdown",
      "metadata": {
        "id": "HiakQU1YwShc"
      },
      "source": [
        "###Split into train and test sets\n"
      ]
    },
    {
      "cell_type": "code",
      "metadata": {
        "colab": {
          "base_uri": "https://localhost:8080/"
        },
        "id": "lbUPQs8B9ocn",
        "outputId": "70acdf5a-101d-4bb8-cc39-c4b28ff24e54"
      },
      "source": [
        "X_trainn, X_testn, Y_train, Y_test = train_test_split(X_cnn , Y_cnn , test_size=0.15, shuffle=True, random_state=123, stratify=Y_cnn )\n",
        "\n",
        "#Normalize the image pixels to the range [0,1]\n",
        "X_train=X_trainn/255.0\n",
        "X_test=X_testn/255.0\n",
        "\n",
        "print(X_trainn.shape)\n",
        "print(Y_train.shape)\n",
        "print(X_testn.shape)\n",
        "print(Y_test.shape)"
      ],
      "execution_count": 74,
      "outputs": [
        {
          "output_type": "stream",
          "name": "stdout",
          "text": [
            "(5124, 128, 128, 1)\n",
            "(5124,)\n",
            "(905, 128, 128, 1)\n",
            "(905,)\n"
          ]
        }
      ]
    },
    {
      "cell_type": "markdown",
      "metadata": {
        "id": "XvStPgbclQjO"
      },
      "source": [
        "##Model configuration"
      ]
    },
    {
      "cell_type": "code",
      "metadata": {
        "id": "tMdRe6J8zfWF"
      },
      "source": [
        "cnn=models.Sequential([\n",
        "\n",
        "    layers.Conv2D(filters=64,kernel_size=(3,3),activation=\"relu\",input_shape=(X_train.shape[1:])),\n",
        "    layers.MaxPool2D(pool_size=(2,2)),\n",
        "    layers.Dropout(0.05),\n",
        "\n",
        "    layers.Conv2D(filters=64,kernel_size=(3,3),activation=\"relu\"),\n",
        "    layers.MaxPooling2D((2,2)),\n",
        "    layers.Dropout(0.07),\n",
        "\n",
        "    layers.Conv2D(filters=32,kernel_size=(3,3),activation=\"relu\"),\n",
        "    layers.MaxPooling2D((2,2)),\n",
        "    layers.Dropout(0.15),\n",
        "\n",
        "    #dense\n",
        "\n",
        "    layers.Flatten(name='flatten'),\n",
        "    layers.Dense(150,activation=\"relu\",name='dense1'),\n",
        "    layers.Dropout(0.15),\n",
        "    layers.Dense(7,activation=\"softmax\")\n",
        "    ])\n",
        "\n",
        "cnn.compile(optimizer='adam',\n",
        "            loss='sparse_categorical_crossentropy',\n",
        "            metrics=['accuracy'])"
      ],
      "execution_count": 22,
      "outputs": []
    },
    {
      "cell_type": "markdown",
      "source": [
        "##Model Training"
      ],
      "metadata": {
        "id": "XGjZcciDrfXM"
      }
    },
    {
      "cell_type": "code",
      "metadata": {
        "colab": {
          "base_uri": "https://localhost:8080/",
          "height": 1000
        },
        "id": "DSlXPmVE_TyX",
        "outputId": "28f62b28-484c-488c-84e0-5469b5eae40c"
      },
      "source": [
        "history=cnn.fit(X_train,Y_train,batch_size=30,validation_split=0.1,epochs=15)\n",
        "\n",
        "plt.plot(history.history['accuracy'])\n",
        "plt.plot(history.history['val_accuracy'])\n",
        "plt.title('model accuracy')\n",
        "plt.ylabel('Accuracy')\n",
        "plt.xlabel('Epoch')\n",
        "plt.legend(['tain','val'],loc='upper left')\n",
        "plt.show()\n",
        "\n",
        "plt.plot(history.history['loss'])\n",
        "plt.plot(history.history['val_loss'])\n",
        "plt.title('model loss')\n",
        "plt.ylabel('loss')\n",
        "plt.xlabel('Epoch')\n",
        "plt.legend(['tain','val'],loc='upper left')\n",
        "plt.show()"
      ],
      "execution_count": 23,
      "outputs": [
        {
          "output_type": "stream",
          "name": "stdout",
          "text": [
            "Epoch 1/15\n",
            "154/154 [==============================] - 269s 2s/step - loss: 1.9248 - accuracy: 0.1739 - val_loss: 1.8984 - val_accuracy: 0.2378\n",
            "Epoch 2/15\n",
            "154/154 [==============================] - 253s 2s/step - loss: 1.3277 - accuracy: 0.4860 - val_loss: 0.9816 - val_accuracy: 0.6218\n",
            "Epoch 3/15\n",
            "154/154 [==============================] - 243s 2s/step - loss: 0.8590 - accuracy: 0.6825 - val_loss: 0.7667 - val_accuracy: 0.7310\n",
            "Epoch 4/15\n",
            "154/154 [==============================] - 246s 2s/step - loss: 0.6671 - accuracy: 0.7597 - val_loss: 0.6051 - val_accuracy: 0.7914\n",
            "Epoch 5/15\n",
            "154/154 [==============================] - 241s 2s/step - loss: 0.5564 - accuracy: 0.8057 - val_loss: 0.5527 - val_accuracy: 0.8207\n",
            "Epoch 6/15\n",
            "154/154 [==============================] - 250s 2s/step - loss: 0.4844 - accuracy: 0.8287 - val_loss: 0.5546 - val_accuracy: 0.8148\n",
            "Epoch 7/15\n",
            "154/154 [==============================] - 244s 2s/step - loss: 0.4193 - accuracy: 0.8508 - val_loss: 0.4723 - val_accuracy: 0.8441\n",
            "Epoch 8/15\n",
            "154/154 [==============================] - 241s 2s/step - loss: 0.3511 - accuracy: 0.8773 - val_loss: 0.4411 - val_accuracy: 0.8480\n",
            "Epoch 9/15\n",
            "154/154 [==============================] - 250s 2s/step - loss: 0.3209 - accuracy: 0.8842 - val_loss: 0.4672 - val_accuracy: 0.8558\n",
            "Epoch 10/15\n",
            "154/154 [==============================] - 249s 2s/step - loss: 0.3064 - accuracy: 0.8905 - val_loss: 0.4950 - val_accuracy: 0.8460\n",
            "Epoch 11/15\n",
            "154/154 [==============================] - 246s 2s/step - loss: 0.2662 - accuracy: 0.9074 - val_loss: 0.5191 - val_accuracy: 0.8499\n",
            "Epoch 12/15\n",
            "154/154 [==============================] - 242s 2s/step - loss: 0.2630 - accuracy: 0.9044 - val_loss: 0.4897 - val_accuracy: 0.8558\n",
            "Epoch 13/15\n",
            "154/154 [==============================] - 250s 2s/step - loss: 0.2490 - accuracy: 0.9111 - val_loss: 0.5113 - val_accuracy: 0.8519\n",
            "Epoch 14/15\n",
            "154/154 [==============================] - 243s 2s/step - loss: 0.2271 - accuracy: 0.9150 - val_loss: 0.4845 - val_accuracy: 0.8538\n",
            "Epoch 15/15\n",
            "154/154 [==============================] - 250s 2s/step - loss: 0.2250 - accuracy: 0.9230 - val_loss: 0.5157 - val_accuracy: 0.8596\n"
          ]
        },
        {
          "output_type": "display_data",
          "data": {
            "text/plain": [
              "<Figure size 640x480 with 1 Axes>"
            ],
            "image/png": "[encoded data removed]"
          },
          "metadata": {}
        },
        {
          "output_type": "display_data",
          "data": {
            "text/plain": [
              "<Figure size 640x480 with 1 Axes>"
            ],
            "image/png": "[encoded data removed]"
          },
          "metadata": {}
        }
      ]
    },
    {
      "cell_type": "code",
      "metadata": {
        "id": "drLCFhXngXoQ"
      },
      "source": [
        "cnn.save(\"CNNmodel.h5\")\n",
        "c=models.load_model('CNNmodel.h5')"
      ],
      "execution_count": 24,
      "outputs": []
    },
    {
      "cell_type": "markdown",
      "metadata": {
        "id": "KT0kOzhnlcO8"
      },
      "source": [
        "##Model testing and evaluation"
      ]
    },
    {
      "cell_type": "code",
      "metadata": {
        "colab": {
          "base_uri": "https://localhost:8080/"
        },
        "id": "mGogyinaEE3a",
        "outputId": "b69b0421-8383-4064-f375-1731b2eb3c9e"
      },
      "source": [
        "cnn.evaluate(X_test,Y_test)"
      ],
      "execution_count": 25,
      "outputs": [
        {
          "output_type": "stream",
          "name": "stdout",
          "text": [
            "29/29 [==============================] - 10s 332ms/step - loss: 0.5267 - accuracy: 0.8552\n"
          ]
        },
        {
          "output_type": "execute_result",
          "data": {
            "text/plain": [
              "[0.5266959071159363, 0.8552486300468445]"
            ]
          },
          "metadata": {},
          "execution_count": 25
        }
      ]
    },
    {
      "cell_type": "code",
      "metadata": {
        "colab": {
          "base_uri": "https://localhost:8080/"
        },
        "id": "VWbxl8dn5MAW",
        "outputId": "bd683171-d452-4fed-8392-bbc9b7c82664"
      },
      "source": [
        "y_prediction=cnn.predict(X_test)\n",
        "y_prediction = [np.argmax(element)for element in y_prediction ]\n",
        "\n",
        "print(classification_report(Y_test,y_prediction))\n",
        "print(confusion_matrix(Y_test , y_prediction))\n",
        "\n",
        "roc = roc_auc_score(Y_test, cnn.predict(X_test), multi_class ='ovr')\n",
        "kappa = cohen_kappa_score(Y_test, cnn.predict(X_test).argmax(axis=1))\n",
        "\n",
        "print(\"Roc score\", roc)\n",
        "print(\"Kappa score\", kappa)"
      ],
      "execution_count": 75,
      "outputs": [
        {
          "output_type": "stream",
          "name": "stdout",
          "text": [
            "29/29 [==============================] - 17s 590ms/step\n",
            "              precision    recall  f1-score   support\n",
            "\n",
            "           0       0.88      0.87      0.88       148\n",
            "           1       0.84      0.88      0.86       138\n",
            "           2       0.83      0.87      0.85       143\n",
            "           3       0.87      0.83      0.85       135\n",
            "           4       0.70      0.71      0.70        89\n",
            "           5       0.87      0.85      0.86        86\n",
            "           6       0.94      0.90      0.92       166\n",
            "\n",
            "    accuracy                           0.86       905\n",
            "   macro avg       0.85      0.85      0.85       905\n",
            "weighted avg       0.86      0.86      0.86       905\n",
            "\n",
            "[[129   1   3   4   7   1   3]\n",
            " [  1 122   6   4   3   1   1]\n",
            " [  7   5 125   2   2   1   1]\n",
            " [  3   6  11 112   1   2   0]\n",
            " [  1   8   6   6  63   2   3]\n",
            " [  4   1   0   0   7  73   1]\n",
            " [  1   3   0   1   7   4 150]]\n",
            "29/29 [==============================] - 11s 397ms/step\n",
            "29/29 [==============================] - 9s 314ms/step\n",
            "Roc score 0.9811695281499756\n",
            "Kappa score 0.8298171347036388\n"
          ]
        }
      ]
    },
    {
      "cell_type": "markdown",
      "metadata": {
        "id": "kTreQ_RzxnM_"
      },
      "source": [
        "#Long Short Term Memory (LSTM)"
      ]
    },
    {
      "cell_type": "markdown",
      "source": [
        "##Data preparation"
      ],
      "metadata": {
        "id": "Beol6DrHxU2f"
      }
    },
    {
      "cell_type": "markdown",
      "metadata": {
        "id": "SwRiaHjyGJCX"
      },
      "source": [
        "###Extract image sequences from the videos\n",
        "\n"
      ]
    },
    {
      "cell_type": "code",
      "source": [
        "#For potential data augmentation\n",
        "\"\"\"def rotation(image, seed=777,rota=0):\n",
        "    random.seed(seed)\n",
        "    angle= rota\n",
        "    r_img = rotate(image, angle, mode='reflect', reshape=False, order=0)\n",
        "    return r_img\n",
        "\n",
        "def v_transl(image, seed=777,decalage=0):\n",
        "    random.seed(seed)\n",
        "    n_pixels = decalage\n",
        "    vtranslated_img = np.roll(image, n_pixels, axis=0)\n",
        "    return vtranslated_img\n",
        "\n",
        "def h_transl(image, seed=777,decalage=0):\n",
        "    random.seed(seed)\n",
        "    n_pixels = decalage\n",
        "    htranslated_img = np.roll(image, n_pixels, axis=1)\n",
        "    return htranslated_img\"\"\""
      ],
      "metadata": {
        "id": "m1p-2Jsf9Gam"
      },
      "execution_count": null,
      "outputs": []
    },
    {
      "cell_type": "code",
      "metadata": {
        "colab": {
          "base_uri": "https://localhost:8080/"
        },
        "id": "oaNUSfm353RO",
        "outputId": "2d8ac261-d60a-4993-c80e-23560a953da2"
      },
      "source": [
        "label2int = {\n",
        "    'dislike' : 0,\n",
        "    'like' : 1,\n",
        "    'ok' : 2,\n",
        "    'point' : 3,\n",
        "    'slide_1' : 4,\n",
        "    'slide_2' : 5,\n",
        "    'take_a_picture' : 6\n",
        "}\n",
        "Y_set = []\n",
        "X_set = []\n",
        "i=0\n",
        "\n",
        "for path_director in glob.glob('/content/drive/MyDrive/demo_room/*'):\n",
        "\n",
        "  label1 = path_director.split('/')[-1]\n",
        "  print(label1)\n",
        "  for image_path in glob.glob(path_director+'/*'):\n",
        "    tempx=[]\n",
        "    tempy=[]\n",
        "    cap=cv2.VideoCapture(image_path)\n",
        "    label = image_path.split('/')[-1].split('_')[0]\n",
        "    if label=='slide' or label=='take'  :\n",
        "      label=label+'_'+image_path.split('/')[-1].split('_')[1]\n",
        "      if label=='take_a':\n",
        "        label=label+'_'+image_path.split('/')[-1].split('_')[2]\n",
        "    nb=0\n",
        "    while cap.isOpened():\n",
        "\n",
        "      imageId=cap.get(1)\n",
        "      ret,image=cap.read()\n",
        "      if ret !=True:\n",
        "        break\n",
        "\n",
        "      if  imageId != 0 :\n",
        "        if imageId % 4 == 0:\n",
        "          nb=nb+1\n",
        "          image=cv2.cvtColor(image , cv2.COLOR_BGR2RGB)\n",
        "\n",
        "          if image.ndim==3:\n",
        "            #print(image_path)\n",
        "            image = cv2.GaussianBlur(image, (5,5) , 100)\n",
        "            red , green , blue = image[:,:,0] ,image[:,:,1] , image[:,:,2]\n",
        "\n",
        "\n",
        "            image_hsv = rgb2hsv(image)\n",
        "            hue = image_hsv[:,:,0]\n",
        "            sat = image_hsv[:,:,1]\n",
        "\n",
        "\n",
        "            image_ycbcr = rgb2ycbcr(image)\n",
        "            y = image_ycbcr[:,:,0]\n",
        "            cb = image_ycbcr[:,:,1]\n",
        "            cr = image_ycbcr[:,:,2]\n",
        "\n",
        "\n",
        "            mask = (red > 95) & (green > 40) & (blue > 20) & (red > green) & (red > blue) & (np.abs(red - green) > 15) & (cr > 135) & (cb > 85) & (y > 80) & (cr <= (1.5862*cb)+20) & (cr >= (0.3448*cb)+76.2069) & (cr >= (-4.5652*cb)+234.5652) & (cr <= (-1.15 * cb)+301.75) & (cr <= (-2.2857*cb)+432.85)\n",
        "            mask = mask.astype(np.uint8)\n",
        "            mask[mask == 1] = 255\n",
        "            np.sum(mask == 255)\n",
        "\n",
        "\n",
        "            kernel = np.ones((5,5), np.uint8)\n",
        "            mask1 = cv2.erode(mask , kernel , iterations=2)\n",
        "\n",
        "            kernel = np.ones((5,5), np.uint8)\n",
        "            image = cv2.dilate(mask1 , kernel , iterations=4)\n",
        "            #image=cv2.cvtColor(image,cv2.COLOR_GRAY2RGB)\n",
        "            image=resize(image,(128,128))\n",
        "\n",
        "            tempx.append(image)\n",
        "            tempy.append(label2int[label])\n",
        "\n",
        "    X_set.append(tempx)\n",
        "    Y_set.append(tempy)\n",
        "    i=i+1\n",
        "print(i)"
      ],
      "execution_count": 27,
      "outputs": [
        {
          "output_type": "stream",
          "name": "stdout",
          "text": [
            "subject_5\n",
            "subject_4\n",
            "subject_3\n",
            "subject_1\n",
            "subject_2\n",
            "705\n"
          ]
        }
      ]
    },
    {
      "cell_type": "markdown",
      "metadata": {
        "id": "xkK-XvAXrPMy"
      },
      "source": [
        "###Data reshape and normalization"
      ]
    },
    {
      "cell_type": "code",
      "metadata": {
        "id": "ygS975Lt2ors",
        "colab": {
          "base_uri": "https://localhost:8080/"
        },
        "outputId": "42cccd30-22cd-4aff-8169-208e2d551537"
      },
      "source": [
        "X_set_array=[]\n",
        "Y_set_array=[]\n",
        "\n",
        "for fich in X_set:\n",
        "  X=np.array(fich).reshape(-1,128,128,1)\n",
        "  #normalization to the range [0,1]\n",
        "  X=X/255\n",
        "  X_set_array.append(X)\n",
        "\n",
        "for fich in Y_set:\n",
        "  Y=np.array(fich)\n",
        "  Y_set_array.append(Y)\n",
        "\n",
        "print(X_set_array[1].shape)\n",
        "print(Y_set_array[1].shape)"
      ],
      "execution_count": 28,
      "outputs": [
        {
          "output_type": "stream",
          "name": "stdout",
          "text": [
            "(11, 128, 128, 1)\n",
            "(11,)\n"
          ]
        }
      ]
    },
    {
      "cell_type": "markdown",
      "metadata": {
        "id": "9riJoCLZro4u"
      },
      "source": [
        "### Load the CNN dense1 layer weights"
      ]
    },
    {
      "cell_type": "code",
      "metadata": {
        "id": "VmdLfT74BLKf"
      },
      "source": [
        "c=models.load_model('CNNmodel.h5')\n",
        "\n",
        "#Get the cnn dense1 layer weights which will be used for feature extraction in the LSTM model\n",
        "modelfeatures= models.Model(\n",
        "    inputs=c.input,\n",
        "    outputs=c.get_layer('dense1').output\n",
        ")"
      ],
      "execution_count": 30,
      "outputs": []
    },
    {
      "cell_type": "markdown",
      "metadata": {
        "id": "bkj-EIf5r_gH"
      },
      "source": [
        "### Feature extraction for each image"
      ]
    },
    {
      "cell_type": "code",
      "metadata": {
        "id": "BFVnT_kD6T-9",
        "colab": {
          "base_uri": "https://localhost:8080/"
        },
        "outputId": "fd5d774b-16ca-4aab-bb52-874c3019c606"
      },
      "source": [
        "trainfeaturesblock=[]\n",
        "for X in X_set_array:\n",
        "  trainf=modelfeatures.predict(X)\n",
        "  trainfeaturesblock.append(trainf)\n",
        "\n",
        "print(trainfeaturesblock[0].shape,trainfeaturesblock[1].shape,trainfeaturesblock[2].shape)\n",
        "print(len(trainfeaturesblock))"
      ],
      "execution_count": 34,
      "outputs": [
        {
          "output_type": "stream",
          "name": "stdout",
          "text": [
            "1/1 [==============================] - 0s 397ms/step\n",
            "1/1 [==============================] - 0s 418ms/step\n",
            "1/1 [==============================] - 1s 679ms/step\n",
            "1/1 [==============================] - 0s 468ms/step\n",
            "1/1 [==============================] - 0s 471ms/step\n",
            "1/1 [==============================] - 0s 287ms/step\n",
            "1/1 [==============================] - 0s 320ms/step\n",
            "1/1 [==============================] - 0s 380ms/step\n",
            "1/1 [==============================] - 0s 311ms/step\n",
            "1/1 [==============================] - 0s 318ms/step\n",
            "1/1 [==============================] - 0s 239ms/step\n",
            "1/1 [==============================] - 0s 257ms/step\n",
            "1/1 [==============================] - 0s 304ms/step\n",
            "1/1 [==============================] - 0s 295ms/step\n",
            "1/1 [==============================] - 0s 247ms/step\n",
            "1/1 [==============================] - 0s 223ms/step\n",
            "1/1 [==============================] - 0s 286ms/step\n",
            "1/1 [==============================] - 0s 216ms/step\n",
            "1/1 [==============================] - 0s 267ms/step\n",
            "1/1 [==============================] - 0s 375ms/step\n",
            "1/1 [==============================] - 0s 170ms/step\n",
            "1/1 [==============================] - 0s 253ms/step\n",
            "1/1 [==============================] - 0s 247ms/step\n",
            "1/1 [==============================] - 0s 201ms/step\n",
            "1/1 [==============================] - 0s 245ms/step\n",
            "1/1 [==============================] - 0s 227ms/step\n",
            "1/1 [==============================] - 0s 236ms/step\n",
            "1/1 [==============================] - 0s 250ms/step\n",
            "1/1 [==============================] - 0s 263ms/step\n",
            "1/1 [==============================] - 0s 243ms/step\n",
            "1/1 [==============================] - 0s 238ms/step\n",
            "1/1 [==============================] - 0s 227ms/step\n",
            "1/1 [==============================] - 0s 214ms/step\n",
            "1/1 [==============================] - 0s 228ms/step\n",
            "1/1 [==============================] - 0s 268ms/step\n",
            "1/1 [==============================] - 0s 155ms/step\n",
            "1/1 [==============================] - 0s 220ms/step\n",
            "1/1 [==============================] - 0s 246ms/step\n",
            "1/1 [==============================] - 0s 323ms/step\n",
            "1/1 [==============================] - 0s 411ms/step\n",
            "1/1 [==============================] - 0s 333ms/step\n",
            "1/1 [==============================] - 0s 328ms/step\n",
            "1/1 [==============================] - 0s 327ms/step\n",
            "1/1 [==============================] - 0s 398ms/step\n",
            "1/1 [==============================] - 0s 415ms/step\n",
            "1/1 [==============================] - 0s 260ms/step\n",
            "1/1 [==============================] - 0s 418ms/step\n",
            "1/1 [==============================] - 0s 488ms/step\n",
            "1/1 [==============================] - 0s 451ms/step\n",
            "1/1 [==============================] - 0s 295ms/step\n",
            "1/1 [==============================] - 0s 228ms/step\n",
            "1/1 [==============================] - 0s 239ms/step\n",
            "1/1 [==============================] - 0s 225ms/step\n",
            "1/1 [==============================] - 0s 239ms/step\n",
            "1/1 [==============================] - 0s 255ms/step\n",
            "1/1 [==============================] - 0s 228ms/step\n",
            "1/1 [==============================] - 0s 175ms/step\n",
            "1/1 [==============================] - 0s 248ms/step\n",
            "1/1 [==============================] - 0s 257ms/step\n",
            "1/1 [==============================] - 0s 176ms/step\n",
            "1/1 [==============================] - 0s 170ms/step\n",
            "1/1 [==============================] - 0s 213ms/step\n",
            "1/1 [==============================] - 0s 156ms/step\n",
            "1/1 [==============================] - 0s 202ms/step\n",
            "1/1 [==============================] - 0s 195ms/step\n",
            "1/1 [==============================] - 0s 240ms/step\n",
            "1/1 [==============================] - 0s 209ms/step\n",
            "1/1 [==============================] - 0s 241ms/step\n",
            "1/1 [==============================] - 0s 169ms/step\n",
            "1/1 [==============================] - 0s 229ms/step\n",
            "1/1 [==============================] - 0s 183ms/step\n",
            "1/1 [==============================] - 0s 167ms/step\n",
            "1/1 [==============================] - 0s 161ms/step\n",
            "1/1 [==============================] - 0s 220ms/step\n",
            "1/1 [==============================] - 0s 233ms/step\n",
            "1/1 [==============================] - 0s 270ms/step\n",
            "1/1 [==============================] - 0s 164ms/step\n",
            "1/1 [==============================] - 0s 231ms/step\n",
            "1/1 [==============================] - 0s 271ms/step\n",
            "1/1 [==============================] - 0s 222ms/step\n",
            "1/1 [==============================] - 0s 228ms/step\n",
            "1/1 [==============================] - 0s 187ms/step\n",
            "1/1 [==============================] - 0s 330ms/step\n",
            "1/1 [==============================] - 0s 403ms/step\n",
            "1/1 [==============================] - 0s 374ms/step\n",
            "1/1 [==============================] - 0s 402ms/step\n",
            "1/1 [==============================] - 0s 322ms/step\n",
            "1/1 [==============================] - 0s 333ms/step\n",
            "1/1 [==============================] - 0s 419ms/step\n",
            "1/1 [==============================] - 0s 200ms/step\n",
            "1/1 [==============================] - 0s 346ms/step\n",
            "1/1 [==============================] - 0s 431ms/step\n",
            "1/1 [==============================] - 0s 407ms/step\n",
            "1/1 [==============================] - 0s 382ms/step\n",
            "1/1 [==============================] - 0s 174ms/step\n",
            "1/1 [==============================] - 0s 207ms/step\n",
            "1/1 [==============================] - 0s 169ms/step\n",
            "1/1 [==============================] - 0s 210ms/step\n",
            "1/1 [==============================] - 0s 246ms/step\n",
            "1/1 [==============================] - 0s 227ms/step\n",
            "1/1 [==============================] - 0s 223ms/step\n",
            "1/1 [==============================] - 0s 216ms/step\n",
            "1/1 [==============================] - 0s 200ms/step\n",
            "1/1 [==============================] - 0s 190ms/step\n",
            "1/1 [==============================] - 0s 273ms/step\n",
            "1/1 [==============================] - 0s 170ms/step\n",
            "1/1 [==============================] - 0s 141ms/step\n",
            "1/1 [==============================] - 0s 152ms/step\n",
            "1/1 [==============================] - 0s 154ms/step\n",
            "1/1 [==============================] - 0s 144ms/step\n",
            "1/1 [==============================] - 0s 199ms/step\n",
            "1/1 [==============================] - 0s 153ms/step\n",
            "1/1 [==============================] - 0s 147ms/step\n",
            "1/1 [==============================] - 0s 184ms/step\n",
            "1/1 [==============================] - 0s 157ms/step\n",
            "1/1 [==============================] - 0s 143ms/step\n",
            "1/1 [==============================] - 0s 137ms/step\n",
            "1/1 [==============================] - 0s 156ms/step\n",
            "1/1 [==============================] - 0s 147ms/step\n",
            "1/1 [==============================] - 0s 166ms/step\n",
            "1/1 [==============================] - 0s 143ms/step\n",
            "1/1 [==============================] - 0s 133ms/step\n",
            "1/1 [==============================] - 0s 135ms/step\n",
            "1/1 [==============================] - 0s 137ms/step\n",
            "1/1 [==============================] - 0s 181ms/step\n",
            "1/1 [==============================] - 0s 179ms/step\n",
            "1/1 [==============================] - 0s 119ms/step\n",
            "1/1 [==============================] - 0s 131ms/step\n",
            "1/1 [==============================] - 0s 159ms/step\n",
            "1/1 [==============================] - 0s 146ms/step\n",
            "1/1 [==============================] - 0s 123ms/step\n",
            "1/1 [==============================] - 0s 145ms/step\n",
            "1/1 [==============================] - 0s 118ms/step\n",
            "1/1 [==============================] - 0s 180ms/step\n",
            "1/1 [==============================] - 0s 175ms/step\n",
            "1/1 [==============================] - 0s 289ms/step\n",
            "1/1 [==============================] - 0s 276ms/step\n",
            "1/1 [==============================] - 0s 232ms/step\n",
            "1/1 [==============================] - 0s 203ms/step\n",
            "1/1 [==============================] - 0s 245ms/step\n",
            "1/1 [==============================] - 0s 192ms/step\n",
            "1/1 [==============================] - 0s 209ms/step\n",
            "1/1 [==============================] - 0s 155ms/step\n",
            "1/1 [==============================] - 0s 222ms/step\n",
            "1/1 [==============================] - 0s 203ms/step\n",
            "1/1 [==============================] - 0s 323ms/step\n",
            "1/1 [==============================] - 0s 382ms/step\n",
            "1/1 [==============================] - 0s 410ms/step\n",
            "1/1 [==============================] - 0s 330ms/step\n",
            "1/1 [==============================] - 0s 292ms/step\n",
            "1/1 [==============================] - 0s 235ms/step\n",
            "1/1 [==============================] - 0s 251ms/step\n",
            "1/1 [==============================] - 0s 211ms/step\n",
            "1/1 [==============================] - 0s 185ms/step\n",
            "1/1 [==============================] - 0s 280ms/step\n",
            "1/1 [==============================] - 0s 160ms/step\n",
            "1/1 [==============================] - 0s 303ms/step\n",
            "1/1 [==============================] - 0s 264ms/step\n",
            "1/1 [==============================] - 0s 254ms/step\n",
            "1/1 [==============================] - 0s 196ms/step\n",
            "1/1 [==============================] - 0s 228ms/step\n",
            "1/1 [==============================] - 0s 259ms/step\n",
            "1/1 [==============================] - 0s 212ms/step\n",
            "1/1 [==============================] - 0s 208ms/step\n",
            "1/1 [==============================] - 0s 263ms/step\n",
            "1/1 [==============================] - 0s 195ms/step\n",
            "1/1 [==============================] - 0s 216ms/step\n",
            "1/1 [==============================] - 0s 132ms/step\n",
            "1/1 [==============================] - 0s 124ms/step\n",
            "1/1 [==============================] - 0s 140ms/step\n",
            "1/1 [==============================] - 0s 105ms/step\n",
            "1/1 [==============================] - 0s 139ms/step\n",
            "1/1 [==============================] - 0s 145ms/step\n",
            "1/1 [==============================] - 0s 140ms/step\n",
            "1/1 [==============================] - 0s 164ms/step\n",
            "1/1 [==============================] - 0s 99ms/step\n",
            "1/1 [==============================] - 0s 133ms/step\n",
            "1/1 [==============================] - 0s 150ms/step\n",
            "1/1 [==============================] - 0s 128ms/step\n",
            "1/1 [==============================] - 0s 157ms/step\n",
            "1/1 [==============================] - 0s 134ms/step\n",
            "1/1 [==============================] - 0s 132ms/step\n",
            "1/1 [==============================] - 0s 96ms/step\n",
            "1/1 [==============================] - 0s 144ms/step\n",
            "1/1 [==============================] - 0s 128ms/step\n",
            "1/1 [==============================] - 0s 112ms/step\n",
            "1/1 [==============================] - 0s 104ms/step\n",
            "1/1 [==============================] - 0s 136ms/step\n",
            "1/1 [==============================] - 0s 156ms/step\n",
            "1/1 [==============================] - 0s 128ms/step\n",
            "1/1 [==============================] - 0s 101ms/step\n",
            "1/1 [==============================] - 0s 206ms/step\n",
            "1/1 [==============================] - 0s 203ms/step\n",
            "1/1 [==============================] - 0s 218ms/step\n",
            "1/1 [==============================] - 0s 279ms/step\n",
            "1/1 [==============================] - 0s 217ms/step\n",
            "1/1 [==============================] - 0s 205ms/step\n",
            "1/1 [==============================] - 0s 191ms/step\n",
            "1/1 [==============================] - 0s 253ms/step\n",
            "1/1 [==============================] - 0s 218ms/step\n",
            "1/1 [==============================] - 0s 213ms/step\n",
            "1/1 [==============================] - 0s 231ms/step\n",
            "1/1 [==============================] - 0s 244ms/step\n",
            "1/1 [==============================] - 0s 228ms/step\n",
            "1/1 [==============================] - 0s 306ms/step\n",
            "1/1 [==============================] - 0s 232ms/step\n",
            "1/1 [==============================] - 0s 227ms/step\n",
            "1/1 [==============================] - 0s 158ms/step\n",
            "1/1 [==============================] - 0s 169ms/step\n",
            "1/1 [==============================] - 0s 152ms/step\n",
            "1/1 [==============================] - 0s 129ms/step\n",
            "1/1 [==============================] - 0s 182ms/step\n",
            "1/1 [==============================] - 0s 132ms/step\n",
            "1/1 [==============================] - 0s 117ms/step\n",
            "1/1 [==============================] - 0s 162ms/step\n",
            "1/1 [==============================] - 0s 143ms/step\n",
            "1/1 [==============================] - 0s 132ms/step\n",
            "1/1 [==============================] - 0s 127ms/step\n",
            "1/1 [==============================] - 0s 144ms/step\n",
            "1/1 [==============================] - 0s 148ms/step\n",
            "1/1 [==============================] - 0s 139ms/step\n",
            "1/1 [==============================] - 0s 129ms/step\n",
            "1/1 [==============================] - 0s 103ms/step\n",
            "1/1 [==============================] - 0s 145ms/step\n",
            "1/1 [==============================] - 0s 198ms/step\n",
            "1/1 [==============================] - 0s 138ms/step\n",
            "1/1 [==============================] - 0s 138ms/step\n",
            "1/1 [==============================] - 0s 127ms/step\n",
            "1/1 [==============================] - 0s 127ms/step\n",
            "1/1 [==============================] - 0s 197ms/step\n",
            "1/1 [==============================] - 0s 103ms/step\n",
            "1/1 [==============================] - 0s 141ms/step\n",
            "1/1 [==============================] - 0s 135ms/step\n",
            "1/1 [==============================] - 0s 148ms/step\n",
            "1/1 [==============================] - 0s 327ms/step\n",
            "1/1 [==============================] - 0s 318ms/step\n",
            "1/1 [==============================] - 0s 267ms/step\n",
            "1/1 [==============================] - 0s 265ms/step\n",
            "1/1 [==============================] - 0s 137ms/step\n",
            "1/1 [==============================] - 0s 150ms/step\n",
            "1/1 [==============================] - 0s 155ms/step\n",
            "1/1 [==============================] - 0s 131ms/step\n",
            "1/1 [==============================] - 0s 102ms/step\n",
            "1/1 [==============================] - 0s 123ms/step\n",
            "1/1 [==============================] - 0s 141ms/step\n",
            "1/1 [==============================] - 0s 61ms/step\n",
            "1/1 [==============================] - 0s 47ms/step\n",
            "1/1 [==============================] - 0s 69ms/step\n",
            "1/1 [==============================] - 0s 47ms/step\n",
            "1/1 [==============================] - 0s 56ms/step\n",
            "1/1 [==============================] - 0s 55ms/step\n",
            "1/1 [==============================] - 0s 56ms/step\n",
            "1/1 [==============================] - 0s 47ms/step\n",
            "1/1 [==============================] - 0s 54ms/step\n",
            "1/1 [==============================] - 0s 68ms/step\n",
            "1/1 [==============================] - 0s 60ms/step\n",
            "1/1 [==============================] - 0s 77ms/step\n",
            "1/1 [==============================] - 0s 62ms/step\n",
            "1/1 [==============================] - 0s 89ms/step\n",
            "1/1 [==============================] - 0s 112ms/step\n",
            "1/1 [==============================] - 0s 113ms/step\n",
            "1/1 [==============================] - 0s 107ms/step\n",
            "1/1 [==============================] - 0s 122ms/step\n",
            "1/1 [==============================] - 0s 115ms/step\n",
            "1/1 [==============================] - 0s 99ms/step\n",
            "1/1 [==============================] - 0s 63ms/step\n",
            "1/1 [==============================] - 0s 78ms/step\n",
            "1/1 [==============================] - 0s 74ms/step\n",
            "1/1 [==============================] - 0s 73ms/step\n",
            "1/1 [==============================] - 0s 101ms/step\n",
            "1/1 [==============================] - 0s 64ms/step\n",
            "1/1 [==============================] - 0s 84ms/step\n",
            "1/1 [==============================] - 0s 62ms/step\n",
            "1/1 [==============================] - 0s 62ms/step\n",
            "1/1 [==============================] - 0s 78ms/step\n",
            "1/1 [==============================] - 0s 82ms/step\n",
            "1/1 [==============================] - 0s 110ms/step\n",
            "1/1 [==============================] - 0s 85ms/step\n",
            "1/1 [==============================] - 0s 84ms/step\n",
            "1/1 [==============================] - 0s 82ms/step\n",
            "1/1 [==============================] - 0s 104ms/step\n",
            "1/1 [==============================] - 0s 92ms/step\n",
            "1/1 [==============================] - 0s 71ms/step\n",
            "1/1 [==============================] - 0s 100ms/step\n",
            "1/1 [==============================] - 0s 89ms/step\n",
            "1/1 [==============================] - 0s 179ms/step\n",
            "1/1 [==============================] - 0s 62ms/step\n",
            "1/1 [==============================] - 0s 71ms/step\n",
            "1/1 [==============================] - 0s 142ms/step\n",
            "1/1 [==============================] - 0s 131ms/step\n",
            "1/1 [==============================] - 0s 149ms/step\n",
            "1/1 [==============================] - 0s 91ms/step\n",
            "1/1 [==============================] - 0s 95ms/step\n",
            "1/1 [==============================] - 0s 73ms/step\n",
            "1/1 [==============================] - 0s 74ms/step\n",
            "1/1 [==============================] - 0s 91ms/step\n",
            "1/1 [==============================] - 0s 91ms/step\n",
            "1/1 [==============================] - 0s 96ms/step\n",
            "1/1 [==============================] - 0s 88ms/step\n",
            "1/1 [==============================] - 0s 110ms/step\n",
            "1/1 [==============================] - 0s 84ms/step\n",
            "1/1 [==============================] - 0s 95ms/step\n",
            "1/1 [==============================] - 0s 111ms/step\n",
            "1/1 [==============================] - 0s 114ms/step\n",
            "1/1 [==============================] - 0s 89ms/step\n",
            "1/1 [==============================] - 0s 85ms/step\n",
            "1/1 [==============================] - 0s 89ms/step\n",
            "1/1 [==============================] - 0s 88ms/step\n",
            "1/1 [==============================] - 0s 89ms/step\n",
            "1/1 [==============================] - 0s 104ms/step\n",
            "1/1 [==============================] - 0s 78ms/step\n",
            "1/1 [==============================] - 0s 92ms/step\n",
            "1/1 [==============================] - 0s 122ms/step\n",
            "1/1 [==============================] - 0s 121ms/step\n",
            "1/1 [==============================] - 0s 71ms/step\n",
            "1/1 [==============================] - 0s 83ms/step\n",
            "1/1 [==============================] - 0s 77ms/step\n",
            "1/1 [==============================] - 0s 89ms/step\n",
            "1/1 [==============================] - 0s 85ms/step\n",
            "1/1 [==============================] - 0s 69ms/step\n",
            "1/1 [==============================] - 0s 81ms/step\n",
            "1/1 [==============================] - 0s 87ms/step\n",
            "1/1 [==============================] - 0s 92ms/step\n",
            "1/1 [==============================] - 0s 120ms/step\n",
            "1/1 [==============================] - 0s 93ms/step\n",
            "1/1 [==============================] - 0s 100ms/step\n",
            "1/1 [==============================] - 0s 63ms/step\n",
            "1/1 [==============================] - 0s 100ms/step\n",
            "1/1 [==============================] - 0s 78ms/step\n",
            "1/1 [==============================] - 0s 92ms/step\n",
            "1/1 [==============================] - 0s 122ms/step\n",
            "1/1 [==============================] - 0s 91ms/step\n",
            "1/1 [==============================] - 0s 90ms/step\n",
            "1/1 [==============================] - 0s 119ms/step\n",
            "1/1 [==============================] - 0s 124ms/step\n",
            "1/1 [==============================] - 0s 90ms/step\n",
            "1/1 [==============================] - 0s 77ms/step\n",
            "1/1 [==============================] - 0s 92ms/step\n",
            "1/1 [==============================] - 0s 80ms/step\n",
            "1/1 [==============================] - 0s 85ms/step\n",
            "1/1 [==============================] - 0s 88ms/step\n",
            "1/1 [==============================] - 0s 62ms/step\n",
            "1/1 [==============================] - 0s 77ms/step\n",
            "1/1 [==============================] - 0s 96ms/step\n",
            "1/1 [==============================] - 0s 84ms/step\n",
            "1/1 [==============================] - 0s 86ms/step\n",
            "1/1 [==============================] - 0s 86ms/step\n",
            "1/1 [==============================] - 0s 80ms/step\n",
            "1/1 [==============================] - 0s 72ms/step\n",
            "1/1 [==============================] - 0s 78ms/step\n",
            "1/1 [==============================] - 0s 73ms/step\n",
            "1/1 [==============================] - 0s 94ms/step\n",
            "1/1 [==============================] - 0s 92ms/step\n",
            "1/1 [==============================] - 0s 73ms/step\n",
            "1/1 [==============================] - 0s 145ms/step\n",
            "1/1 [==============================] - 0s 128ms/step\n",
            "1/1 [==============================] - 0s 150ms/step\n",
            "1/1 [==============================] - 0s 159ms/step\n",
            "1/1 [==============================] - 0s 123ms/step\n",
            "1/1 [==============================] - 0s 138ms/step\n",
            "1/1 [==============================] - 0s 124ms/step\n",
            "1/1 [==============================] - 0s 163ms/step\n",
            "1/1 [==============================] - 0s 152ms/step\n",
            "1/1 [==============================] - 0s 107ms/step\n",
            "1/1 [==============================] - 0s 142ms/step\n",
            "1/1 [==============================] - 0s 138ms/step\n",
            "1/1 [==============================] - 0s 119ms/step\n",
            "1/1 [==============================] - 0s 113ms/step\n",
            "1/1 [==============================] - 0s 139ms/step\n",
            "1/1 [==============================] - 0s 118ms/step\n",
            "1/1 [==============================] - 0s 141ms/step\n",
            "1/1 [==============================] - 0s 134ms/step\n",
            "1/1 [==============================] - 0s 147ms/step\n",
            "1/1 [==============================] - 0s 112ms/step\n",
            "1/1 [==============================] - 0s 97ms/step\n",
            "1/1 [==============================] - 0s 61ms/step\n",
            "1/1 [==============================] - 0s 74ms/step\n",
            "1/1 [==============================] - 0s 85ms/step\n",
            "1/1 [==============================] - 0s 72ms/step\n",
            "1/1 [==============================] - 0s 62ms/step\n",
            "1/1 [==============================] - 0s 61ms/step\n",
            "1/1 [==============================] - 0s 80ms/step\n",
            "1/1 [==============================] - 0s 71ms/step\n",
            "1/1 [==============================] - 0s 82ms/step\n",
            "1/1 [==============================] - 0s 86ms/step\n",
            "1/1 [==============================] - 0s 98ms/step\n",
            "1/1 [==============================] - 0s 54ms/step\n",
            "1/1 [==============================] - 0s 62ms/step\n",
            "1/1 [==============================] - 0s 76ms/step\n",
            "1/1 [==============================] - 0s 118ms/step\n",
            "1/1 [==============================] - 0s 110ms/step\n",
            "1/1 [==============================] - 0s 79ms/step\n",
            "1/1 [==============================] - 0s 78ms/step\n",
            "1/1 [==============================] - 0s 57ms/step\n",
            "1/1 [==============================] - 0s 63ms/step\n",
            "1/1 [==============================] - 0s 61ms/step\n",
            "1/1 [==============================] - 0s 55ms/step\n",
            "1/1 [==============================] - 0s 78ms/step\n",
            "1/1 [==============================] - 0s 65ms/step\n",
            "1/1 [==============================] - 0s 98ms/step\n",
            "1/1 [==============================] - 0s 83ms/step\n",
            "1/1 [==============================] - 0s 93ms/step\n",
            "1/1 [==============================] - 0s 63ms/step\n",
            "1/1 [==============================] - 0s 53ms/step\n",
            "1/1 [==============================] - 0s 69ms/step\n",
            "1/1 [==============================] - 0s 70ms/step\n",
            "1/1 [==============================] - 0s 88ms/step\n",
            "1/1 [==============================] - 0s 126ms/step\n",
            "1/1 [==============================] - 0s 175ms/step\n",
            "1/1 [==============================] - 0s 134ms/step\n",
            "1/1 [==============================] - 0s 96ms/step\n",
            "1/1 [==============================] - 0s 95ms/step\n",
            "1/1 [==============================] - 0s 69ms/step\n",
            "1/1 [==============================] - 0s 103ms/step\n",
            "1/1 [==============================] - 0s 103ms/step\n",
            "1/1 [==============================] - 0s 79ms/step\n",
            "1/1 [==============================] - 0s 88ms/step\n",
            "1/1 [==============================] - 0s 99ms/step\n",
            "1/1 [==============================] - 0s 77ms/step\n",
            "1/1 [==============================] - 0s 79ms/step\n",
            "1/1 [==============================] - 0s 81ms/step\n",
            "1/1 [==============================] - 0s 86ms/step\n",
            "1/1 [==============================] - 0s 126ms/step\n",
            "1/1 [==============================] - 0s 123ms/step\n",
            "1/1 [==============================] - 0s 85ms/step\n",
            "1/1 [==============================] - 0s 220ms/step\n",
            "1/1 [==============================] - 0s 159ms/step\n",
            "1/1 [==============================] - 0s 187ms/step\n",
            "1/1 [==============================] - 0s 82ms/step\n",
            "1/1 [==============================] - 0s 105ms/step\n",
            "1/1 [==============================] - 0s 118ms/step\n",
            "1/1 [==============================] - 0s 121ms/step\n",
            "1/1 [==============================] - 0s 87ms/step\n",
            "1/1 [==============================] - 0s 131ms/step\n",
            "1/1 [==============================] - 0s 102ms/step\n",
            "1/1 [==============================] - 0s 85ms/step\n",
            "1/1 [==============================] - 0s 143ms/step\n",
            "1/1 [==============================] - 0s 109ms/step\n",
            "1/1 [==============================] - 0s 100ms/step\n",
            "1/1 [==============================] - 0s 100ms/step\n",
            "1/1 [==============================] - 0s 78ms/step\n",
            "1/1 [==============================] - 0s 77ms/step\n",
            "1/1 [==============================] - 0s 248ms/step\n",
            "1/1 [==============================] - 0s 152ms/step\n",
            "1/1 [==============================] - 0s 210ms/step\n",
            "1/1 [==============================] - 0s 193ms/step\n",
            "1/1 [==============================] - 0s 139ms/step\n",
            "1/1 [==============================] - 0s 122ms/step\n",
            "1/1 [==============================] - 0s 274ms/step\n",
            "1/1 [==============================] - 0s 222ms/step\n",
            "1/1 [==============================] - 0s 154ms/step\n",
            "1/1 [==============================] - 0s 210ms/step\n",
            "1/1 [==============================] - 0s 128ms/step\n",
            "1/1 [==============================] - 0s 172ms/step\n",
            "1/1 [==============================] - 0s 196ms/step\n",
            "1/1 [==============================] - 0s 154ms/step\n",
            "1/1 [==============================] - 0s 226ms/step\n",
            "1/1 [==============================] - 0s 234ms/step\n",
            "1/1 [==============================] - 0s 143ms/step\n",
            "1/1 [==============================] - 0s 185ms/step\n",
            "1/1 [==============================] - 0s 182ms/step\n",
            "1/1 [==============================] - 0s 311ms/step\n",
            "1/1 [==============================] - 0s 172ms/step\n",
            "1/1 [==============================] - 0s 174ms/step\n",
            "1/1 [==============================] - 0s 212ms/step\n",
            "1/1 [==============================] - 0s 136ms/step\n",
            "1/1 [==============================] - 0s 267ms/step\n",
            "1/1 [==============================] - 0s 244ms/step\n",
            "1/1 [==============================] - 0s 169ms/step\n",
            "1/1 [==============================] - 0s 212ms/step\n",
            "1/1 [==============================] - 0s 379ms/step\n",
            "1/1 [==============================] - 0s 223ms/step\n",
            "1/1 [==============================] - 0s 274ms/step\n",
            "1/1 [==============================] - 0s 234ms/step\n",
            "1/1 [==============================] - 0s 204ms/step\n",
            "1/1 [==============================] - 0s 103ms/step\n",
            "1/1 [==============================] - 0s 72ms/step\n",
            "1/1 [==============================] - 0s 78ms/step\n",
            "1/1 [==============================] - 0s 156ms/step\n",
            "1/1 [==============================] - 0s 155ms/step\n",
            "1/1 [==============================] - 0s 86ms/step\n",
            "1/1 [==============================] - 0s 103ms/step\n",
            "1/1 [==============================] - 0s 78ms/step\n",
            "1/1 [==============================] - 0s 80ms/step\n",
            "1/1 [==============================] - 0s 177ms/step\n",
            "1/1 [==============================] - 0s 106ms/step\n",
            "1/1 [==============================] - 0s 159ms/step\n",
            "1/1 [==============================] - 0s 127ms/step\n",
            "1/1 [==============================] - 0s 158ms/step\n",
            "1/1 [==============================] - 0s 231ms/step\n",
            "1/1 [==============================] - 0s 106ms/step\n",
            "1/1 [==============================] - 0s 97ms/step\n",
            "1/1 [==============================] - 0s 141ms/step\n",
            "1/1 [==============================] - 0s 130ms/step\n",
            "1/1 [==============================] - 0s 154ms/step\n",
            "1/1 [==============================] - 0s 147ms/step\n",
            "1/1 [==============================] - 0s 87ms/step\n",
            "1/1 [==============================] - 0s 71ms/step\n",
            "1/1 [==============================] - 0s 87ms/step\n",
            "1/1 [==============================] - 0s 133ms/step\n",
            "1/1 [==============================] - 0s 85ms/step\n",
            "1/1 [==============================] - 0s 79ms/step\n",
            "1/1 [==============================] - 0s 77ms/step\n",
            "1/1 [==============================] - 0s 87ms/step\n",
            "1/1 [==============================] - 0s 71ms/step\n",
            "1/1 [==============================] - 0s 87ms/step\n",
            "1/1 [==============================] - 0s 110ms/step\n",
            "1/1 [==============================] - 0s 120ms/step\n",
            "1/1 [==============================] - 0s 89ms/step\n",
            "1/1 [==============================] - 0s 170ms/step\n",
            "1/1 [==============================] - 0s 125ms/step\n",
            "1/1 [==============================] - 0s 139ms/step\n",
            "1/1 [==============================] - 0s 152ms/step\n",
            "1/1 [==============================] - 0s 225ms/step\n",
            "1/1 [==============================] - 0s 147ms/step\n",
            "1/1 [==============================] - 0s 130ms/step\n",
            "1/1 [==============================] - 0s 332ms/step\n",
            "1/1 [==============================] - 0s 147ms/step\n",
            "1/1 [==============================] - 0s 113ms/step\n",
            "1/1 [==============================] - 0s 124ms/step\n",
            "1/1 [==============================] - 0s 167ms/step\n",
            "1/1 [==============================] - 0s 137ms/step\n",
            "1/1 [==============================] - 0s 135ms/step\n",
            "1/1 [==============================] - 0s 271ms/step\n",
            "1/1 [==============================] - 0s 211ms/step\n",
            "1/1 [==============================] - 0s 164ms/step\n",
            "1/1 [==============================] - 0s 119ms/step\n",
            "1/1 [==============================] - 0s 85ms/step\n",
            "1/1 [==============================] - 0s 78ms/step\n",
            "1/1 [==============================] - 0s 77ms/step\n",
            "1/1 [==============================] - 0s 118ms/step\n",
            "1/1 [==============================] - 0s 108ms/step\n",
            "1/1 [==============================] - 0s 143ms/step\n",
            "1/1 [==============================] - 0s 87ms/step\n",
            "1/1 [==============================] - 0s 110ms/step\n",
            "1/1 [==============================] - 0s 73ms/step\n",
            "1/1 [==============================] - 0s 76ms/step\n",
            "1/1 [==============================] - 0s 120ms/step\n",
            "1/1 [==============================] - 0s 86ms/step\n",
            "1/1 [==============================] - 0s 105ms/step\n",
            "1/1 [==============================] - 0s 85ms/step\n",
            "1/1 [==============================] - 0s 109ms/step\n",
            "1/1 [==============================] - 0s 73ms/step\n",
            "1/1 [==============================] - 0s 141ms/step\n",
            "1/1 [==============================] - 0s 152ms/step\n",
            "1/1 [==============================] - 0s 97ms/step\n",
            "1/1 [==============================] - 0s 171ms/step\n",
            "1/1 [==============================] - 0s 76ms/step\n",
            "1/1 [==============================] - 0s 89ms/step\n",
            "1/1 [==============================] - 0s 90ms/step\n",
            "1/1 [==============================] - 0s 54ms/step\n",
            "1/1 [==============================] - 0s 188ms/step\n",
            "1/1 [==============================] - 0s 135ms/step\n",
            "1/1 [==============================] - 0s 130ms/step\n",
            "1/1 [==============================] - 0s 168ms/step\n",
            "1/1 [==============================] - 0s 187ms/step\n",
            "1/1 [==============================] - 0s 132ms/step\n",
            "1/1 [==============================] - 0s 131ms/step\n",
            "1/1 [==============================] - 0s 100ms/step\n",
            "1/1 [==============================] - 0s 130ms/step\n",
            "1/1 [==============================] - 0s 148ms/step\n",
            "1/1 [==============================] - 0s 127ms/step\n",
            "1/1 [==============================] - 0s 121ms/step\n",
            "1/1 [==============================] - 0s 161ms/step\n",
            "1/1 [==============================] - 0s 130ms/step\n",
            "1/1 [==============================] - 0s 145ms/step\n",
            "1/1 [==============================] - 0s 121ms/step\n",
            "1/1 [==============================] - 0s 49ms/step\n",
            "1/1 [==============================] - 0s 60ms/step\n",
            "1/1 [==============================] - 0s 141ms/step\n",
            "1/1 [==============================] - 0s 72ms/step\n",
            "1/1 [==============================] - 0s 105ms/step\n",
            "1/1 [==============================] - 0s 99ms/step\n",
            "1/1 [==============================] - 0s 98ms/step\n",
            "1/1 [==============================] - 0s 66ms/step\n",
            "1/1 [==============================] - 0s 54ms/step\n",
            "1/1 [==============================] - 0s 90ms/step\n",
            "1/1 [==============================] - 0s 75ms/step\n",
            "1/1 [==============================] - 0s 92ms/step\n",
            "1/1 [==============================] - 0s 102ms/step\n",
            "1/1 [==============================] - 0s 56ms/step\n",
            "1/1 [==============================] - 0s 46ms/step\n",
            "1/1 [==============================] - 0s 83ms/step\n",
            "1/1 [==============================] - 0s 75ms/step\n",
            "1/1 [==============================] - 0s 91ms/step\n",
            "1/1 [==============================] - 0s 79ms/step\n",
            "1/1 [==============================] - 0s 80ms/step\n",
            "1/1 [==============================] - 0s 56ms/step\n",
            "1/1 [==============================] - 0s 57ms/step\n",
            "1/1 [==============================] - 0s 77ms/step\n",
            "1/1 [==============================] - 0s 99ms/step\n",
            "1/1 [==============================] - 0s 210ms/step\n",
            "1/1 [==============================] - 0s 139ms/step\n",
            "1/1 [==============================] - 0s 160ms/step\n",
            "1/1 [==============================] - 0s 83ms/step\n",
            "1/1 [==============================] - 0s 80ms/step\n",
            "1/1 [==============================] - 0s 138ms/step\n",
            "1/1 [==============================] - 0s 120ms/step\n",
            "1/1 [==============================] - 0s 151ms/step\n",
            "1/1 [==============================] - 0s 162ms/step\n",
            "1/1 [==============================] - 0s 134ms/step\n",
            "1/1 [==============================] - 0s 72ms/step\n",
            "1/1 [==============================] - 0s 63ms/step\n",
            "1/1 [==============================] - 0s 160ms/step\n",
            "1/1 [==============================] - 0s 171ms/step\n",
            "1/1 [==============================] - 0s 147ms/step\n",
            "1/1 [==============================] - 0s 168ms/step\n",
            "1/1 [==============================] - 0s 155ms/step\n",
            "1/1 [==============================] - 0s 81ms/step\n",
            "1/1 [==============================] - 0s 80ms/step\n",
            "1/1 [==============================] - 0s 145ms/step\n",
            "1/1 [==============================] - 0s 114ms/step\n",
            "1/1 [==============================] - 0s 305ms/step\n",
            "1/1 [==============================] - 0s 163ms/step\n",
            "1/1 [==============================] - 0s 87ms/step\n",
            "1/1 [==============================] - 0s 49ms/step\n",
            "1/1 [==============================] - 0s 50ms/step\n",
            "1/1 [==============================] - 0s 79ms/step\n",
            "1/1 [==============================] - 0s 63ms/step\n",
            "1/1 [==============================] - 0s 86ms/step\n",
            "1/1 [==============================] - 0s 84ms/step\n",
            "1/1 [==============================] - 0s 98ms/step\n",
            "1/1 [==============================] - 0s 56ms/step\n",
            "1/1 [==============================] - 0s 50ms/step\n",
            "1/1 [==============================] - 0s 84ms/step\n",
            "1/1 [==============================] - 0s 62ms/step\n",
            "1/1 [==============================] - 0s 94ms/step\n",
            "1/1 [==============================] - 0s 71ms/step\n",
            "1/1 [==============================] - 0s 81ms/step\n",
            "1/1 [==============================] - 0s 48ms/step\n",
            "1/1 [==============================] - 0s 42ms/step\n",
            "1/1 [==============================] - 0s 69ms/step\n",
            "1/1 [==============================] - 0s 65ms/step\n",
            "1/1 [==============================] - 0s 79ms/step\n",
            "1/1 [==============================] - 0s 106ms/step\n",
            "1/1 [==============================] - 0s 77ms/step\n",
            "1/1 [==============================] - 0s 61ms/step\n",
            "1/1 [==============================] - 0s 48ms/step\n",
            "1/1 [==============================] - 0s 81ms/step\n",
            "1/1 [==============================] - 0s 74ms/step\n",
            "1/1 [==============================] - 0s 127ms/step\n",
            "1/1 [==============================] - 0s 79ms/step\n",
            "1/1 [==============================] - 0s 69ms/step\n",
            "1/1 [==============================] - 0s 50ms/step\n",
            "1/1 [==============================] - 0s 65ms/step\n",
            "1/1 [==============================] - 0s 62ms/step\n",
            "1/1 [==============================] - 0s 79ms/step\n",
            "1/1 [==============================] - 0s 69ms/step\n",
            "1/1 [==============================] - 0s 77ms/step\n",
            "1/1 [==============================] - 0s 94ms/step\n",
            "1/1 [==============================] - 0s 49ms/step\n",
            "1/1 [==============================] - 0s 40ms/step\n",
            "1/1 [==============================] - 0s 68ms/step\n",
            "1/1 [==============================] - 0s 66ms/step\n",
            "1/1 [==============================] - 0s 89ms/step\n",
            "1/1 [==============================] - 0s 116ms/step\n",
            "1/1 [==============================] - 0s 78ms/step\n",
            "1/1 [==============================] - 0s 53ms/step\n",
            "1/1 [==============================] - 0s 50ms/step\n",
            "1/1 [==============================] - 0s 78ms/step\n",
            "1/1 [==============================] - 0s 86ms/step\n",
            "1/1 [==============================] - 0s 114ms/step\n",
            "1/1 [==============================] - 0s 85ms/step\n",
            "1/1 [==============================] - 0s 114ms/step\n",
            "1/1 [==============================] - 0s 45ms/step\n",
            "1/1 [==============================] - 0s 44ms/step\n",
            "1/1 [==============================] - 0s 64ms/step\n",
            "1/1 [==============================] - 0s 64ms/step\n",
            "1/1 [==============================] - 0s 95ms/step\n",
            "1/1 [==============================] - 0s 65ms/step\n",
            "1/1 [==============================] - 0s 78ms/step\n",
            "1/1 [==============================] - 0s 50ms/step\n",
            "1/1 [==============================] - 0s 45ms/step\n",
            "1/1 [==============================] - 0s 77ms/step\n",
            "1/1 [==============================] - 0s 80ms/step\n",
            "1/1 [==============================] - 0s 91ms/step\n",
            "1/1 [==============================] - 0s 85ms/step\n",
            "1/1 [==============================] - 0s 77ms/step\n",
            "1/1 [==============================] - 0s 48ms/step\n",
            "1/1 [==============================] - 0s 39ms/step\n",
            "1/1 [==============================] - 0s 92ms/step\n",
            "1/1 [==============================] - 0s 80ms/step\n",
            "1/1 [==============================] - 0s 85ms/step\n",
            "1/1 [==============================] - 0s 73ms/step\n",
            "1/1 [==============================] - 0s 84ms/step\n",
            "1/1 [==============================] - 0s 43ms/step\n",
            "1/1 [==============================] - 0s 38ms/step\n",
            "1/1 [==============================] - 0s 110ms/step\n",
            "1/1 [==============================] - 0s 172ms/step\n",
            "1/1 [==============================] - 0s 89ms/step\n",
            "1/1 [==============================] - 0s 91ms/step\n",
            "1/1 [==============================] - 0s 125ms/step\n",
            "1/1 [==============================] - 0s 70ms/step\n",
            "1/1 [==============================] - 0s 71ms/step\n",
            "1/1 [==============================] - 0s 123ms/step\n",
            "1/1 [==============================] - 0s 125ms/step\n",
            "1/1 [==============================] - 0s 157ms/step\n",
            "1/1 [==============================] - 0s 119ms/step\n",
            "1/1 [==============================] - 0s 151ms/step\n",
            "1/1 [==============================] - 0s 66ms/step\n",
            "1/1 [==============================] - 0s 64ms/step\n",
            "1/1 [==============================] - 0s 131ms/step\n",
            "1/1 [==============================] - 0s 112ms/step\n",
            "1/1 [==============================] - 0s 162ms/step\n",
            "1/1 [==============================] - 0s 213ms/step\n",
            "(10, 150) (11, 150) (12, 150)\n",
            "705\n"
          ]
        }
      ]
    },
    {
      "cell_type": "markdown",
      "metadata": {
        "id": "1mlFKmNlsJMb"
      },
      "source": [
        "### Put the images in sequences of 6"
      ]
    },
    {
      "cell_type": "code",
      "metadata": {
        "id": "_XIey-M2TBvI",
        "colab": {
          "base_uri": "https://localhost:8080/"
        },
        "outputId": "79e7b104-156d-4d52-cd5d-a0bfb22cd2a5"
      },
      "source": [
        "X_data=[]\n",
        "for X in trainfeaturesblock:\n",
        "  li=[]\n",
        "  i=0\n",
        "  for ph in X:\n",
        "    i=i+1\n",
        "    li.append(ph)\n",
        "    if i==6:\n",
        "      X_data.append(li)\n",
        "      i=0\n",
        "      li=[]\n",
        "\n",
        "print(len(X_data))"
      ],
      "execution_count": 35,
      "outputs": [
        {
          "output_type": "stream",
          "name": "stdout",
          "text": [
            "721\n"
          ]
        },
        {
          "output_type": "execute_result",
          "data": {
            "text/plain": [
              "6"
            ]
          },
          "metadata": {},
          "execution_count": 35
        }
      ]
    },
    {
      "cell_type": "markdown",
      "source": [
        "###Reshape data\n"
      ],
      "metadata": {
        "id": "vw2tB_quwvdR"
      }
    },
    {
      "cell_type": "code",
      "metadata": {
        "id": "1cG_1-zFkGPs",
        "colab": {
          "base_uri": "https://localhost:8080/"
        },
        "outputId": "1159b045-0787-43f6-bae8-c449ed535b39"
      },
      "source": [
        "Y_data1=[]\n",
        "for Y in Y_set_array:\n",
        "  li=[]\n",
        "  i=0\n",
        "  for classe in Y:\n",
        "    i=i+1\n",
        "    li.append(classe)\n",
        "    if i==6:\n",
        "      Y_data1.append(li)\n",
        "      i=0\n",
        "      li=[]\n",
        "\n",
        "print(len(Y_data1))\n",
        "print(len(Y_data1[0]))"
      ],
      "execution_count": 37,
      "outputs": [
        {
          "output_type": "stream",
          "name": "stdout",
          "text": [
            "721\n",
            "6\n"
          ]
        }
      ]
    },
    {
      "cell_type": "code",
      "metadata": {
        "id": "mxhz7s_YgQVq",
        "colab": {
          "base_uri": "https://localhost:8080/"
        },
        "outputId": "15f6c6c0-d9f4-47cb-ac66-acca9bda2765"
      },
      "source": [
        "Y_data=[]\n",
        "for Y in Y_data1:\n",
        "  Y_data.append(Y[0])\n",
        "len(Y_data)"
      ],
      "execution_count": 38,
      "outputs": [
        {
          "output_type": "execute_result",
          "data": {
            "text/plain": [
              "721"
            ]
          },
          "metadata": {},
          "execution_count": 38
        }
      ]
    },
    {
      "cell_type": "code",
      "metadata": {
        "id": "vKmE6X72lk46",
        "colab": {
          "base_uri": "https://localhost:8080/"
        },
        "outputId": "cb8c9ab3-cd71-4ffa-b36c-415a01b0cd83"
      },
      "source": [
        "X_dataset=np.array(X_data).reshape(-1,6,150)\n",
        "Y_dataset=np.array(Y_data)\n",
        "\n",
        "print(X_dataset.shape)\n",
        "print(Y_dataset.shape)"
      ],
      "execution_count": 39,
      "outputs": [
        {
          "output_type": "stream",
          "name": "stdout",
          "text": [
            "(721, 6, 150)\n",
            "(721,)\n"
          ]
        }
      ]
    },
    {
      "cell_type": "markdown",
      "source": [
        "###Save the obtained data"
      ],
      "metadata": {
        "id": "n-fFSf_Spgiq"
      }
    },
    {
      "cell_type": "code",
      "source": [
        "pickle_out=open(\"X_data_LSTM.pickle\",\"wb\")\n",
        "pickle.dump(X_dataset,pickle_out)\n",
        "pickle_out.close()\n",
        "\n",
        "pickle_out=open(\"Y_data_LSTM.pickle\",\"wb\")\n",
        "pickle.dump(Y_dataset,pickle_out)\n",
        "pickle_out.close()"
      ],
      "metadata": {
        "id": "_6FHhqrKo9hj"
      },
      "execution_count": 42,
      "outputs": []
    },
    {
      "cell_type": "code",
      "source": [
        "pickle_in1=open(\"X_data_LSTM.pickle\",\"rb\")\n",
        "X_dataset=pickle.load(pickle_in1)\n",
        "\n",
        "pickle_in2=open(\"Y_data_LSTM.pickle\",\"rb\")\n",
        "Y_dataset=pickle.load(pickle_in2)"
      ],
      "metadata": {
        "id": "VI7Ld9onprRt"
      },
      "execution_count": 43,
      "outputs": []
    },
    {
      "cell_type": "markdown",
      "source": [
        "###Split into train and test sets\n"
      ],
      "metadata": {
        "id": "1dTQ9vUyx8L4"
      }
    },
    {
      "cell_type": "code",
      "metadata": {
        "id": "qLozfhEcoChf",
        "colab": {
          "base_uri": "https://localhost:8080/"
        },
        "outputId": "9eebda50-9647-499b-93e7-3d99187b267b"
      },
      "source": [
        "X_train, X_test, Y_train, Y_test = train_test_split(X_dataset , Y_dataset , test_size=0.15, random_state=123,stratify=Y_dataset)\n",
        "\n",
        "print(X_train.shape)\n",
        "print(Y_train.shape)\n",
        "print(X_test.shape)\n",
        "print(Y_test.shape)"
      ],
      "execution_count": 50,
      "outputs": [
        {
          "output_type": "stream",
          "name": "stdout",
          "text": [
            "(612, 6, 150)\n",
            "(612,)\n",
            "(109, 6, 150)\n",
            "(109,)\n"
          ]
        }
      ]
    },
    {
      "cell_type": "markdown",
      "metadata": {
        "id": "_u49pHnm8Vvg"
      },
      "source": [
        "##Model configuration"
      ]
    },
    {
      "cell_type": "code",
      "metadata": {
        "id": "DzHJnX1Cxt2Y"
      },
      "source": [
        "lstm=models.Sequential([\n",
        "\n",
        "layers.LSTM(128,input_shape=(X_train.shape[1:]),activation='relu',return_sequences=True),\n",
        "layers.Dropout(0.2),\n",
        "\n",
        "layers.LSTM(128,activation='relu'),\n",
        "layers.Dropout(0.2),\n",
        "\n",
        "layers.Dense(32,activation='relu'),\n",
        "layers.Dropout(0.2),\n",
        "\n",
        "layers.Dense(7,activation='softmax'),\n",
        "\n",
        "])\n",
        "\n",
        "opt= tensorflow.keras.optimizers.Adam(learning_rate=1e-4)\n",
        "\n",
        "lstm.compile(loss='sparse_categorical_crossentropy',optimizer=opt,metrics=['accuracy'])"
      ],
      "execution_count": 51,
      "outputs": []
    },
    {
      "cell_type": "markdown",
      "source": [
        "##Model training"
      ],
      "metadata": {
        "id": "6-nYXrwHycB1"
      }
    },
    {
      "cell_type": "code",
      "metadata": {
        "colab": {
          "base_uri": "https://localhost:8080/",
          "height": 1000
        },
        "id": "yHyAh7UM5249",
        "outputId": "50907291-ce93-4561-d8ef-f0dd48af2758"
      },
      "source": [
        "history1=lstm.fit(X_train,Y_train,batch_size=30,validation_split=0.15,epochs=30)\n",
        "\n",
        "plt.plot(history1.history['accuracy'])\n",
        "plt.plot(history1.history['val_accuracy'])\n",
        "plt.title('model accuracy')\n",
        "plt.ylabel('Accuracy')\n",
        "plt.xlabel('Epoch')\n",
        "plt.legend(['tain','val'],loc='upper left')\n",
        "plt.show()\n",
        "\n",
        "plt.plot(history1.history['loss'])\n",
        "plt.plot(history1.history['val_loss'])\n",
        "plt.title('model loss')\n",
        "plt.ylabel('loss')\n",
        "plt.xlabel('Epoch')\n",
        "plt.legend(['tain','val'],loc='upper left')\n",
        "plt.show()"
      ],
      "execution_count": 52,
      "outputs": [
        {
          "output_type": "stream",
          "name": "stdout",
          "text": [
            "Epoch 1/30\n",
            "18/18 [==============================] - 5s 70ms/step - loss: 1.9919 - accuracy: 0.1942 - val_loss: 1.8261 - val_accuracy: 0.2826\n",
            "Epoch 2/30\n",
            "18/18 [==============================] - 1s 54ms/step - loss: 1.7181 - accuracy: 0.3462 - val_loss: 1.6890 - val_accuracy: 0.4239\n",
            "Epoch 3/30\n",
            "18/18 [==============================] - 1s 54ms/step - loss: 1.5622 - accuracy: 0.4442 - val_loss: 1.5517 - val_accuracy: 0.5109\n",
            "Epoch 4/30\n",
            "18/18 [==============================] - 1s 59ms/step - loss: 1.4024 - accuracy: 0.5115 - val_loss: 1.3902 - val_accuracy: 0.5000\n",
            "Epoch 5/30\n",
            "18/18 [==============================] - 1s 59ms/step - loss: 1.2887 - accuracy: 0.5269 - val_loss: 1.1978 - val_accuracy: 0.5761\n",
            "Epoch 6/30\n",
            "18/18 [==============================] - 1s 44ms/step - loss: 1.0900 - accuracy: 0.5788 - val_loss: 0.9998 - val_accuracy: 0.5870\n",
            "Epoch 7/30\n",
            "18/18 [==============================] - 1s 31ms/step - loss: 0.9582 - accuracy: 0.6019 - val_loss: 0.8159 - val_accuracy: 0.6630\n",
            "Epoch 8/30\n",
            "18/18 [==============================] - 1s 33ms/step - loss: 0.7789 - accuracy: 0.6731 - val_loss: 0.6346 - val_accuracy: 0.8370\n",
            "Epoch 9/30\n",
            "18/18 [==============================] - 1s 33ms/step - loss: 0.6724 - accuracy: 0.7327 - val_loss: 0.4507 - val_accuracy: 0.9348\n",
            "Epoch 10/30\n",
            "18/18 [==============================] - 1s 31ms/step - loss: 0.4722 - accuracy: 0.8288 - val_loss: 0.2610 - val_accuracy: 0.9565\n",
            "Epoch 11/30\n",
            "18/18 [==============================] - 1s 36ms/step - loss: 0.3343 - accuracy: 0.8885 - val_loss: 0.1236 - val_accuracy: 1.0000\n",
            "Epoch 12/30\n",
            "18/18 [==============================] - 1s 29ms/step - loss: 0.2489 - accuracy: 0.9231 - val_loss: 0.0848 - val_accuracy: 0.9891\n",
            "Epoch 13/30\n",
            "18/18 [==============================] - 1s 33ms/step - loss: 0.2178 - accuracy: 0.9269 - val_loss: 0.0602 - val_accuracy: 1.0000\n",
            "Epoch 14/30\n",
            "18/18 [==============================] - 1s 32ms/step - loss: 0.1534 - accuracy: 0.9500 - val_loss: 0.0465 - val_accuracy: 1.0000\n",
            "Epoch 15/30\n",
            "18/18 [==============================] - 1s 32ms/step - loss: 0.1306 - accuracy: 0.9500 - val_loss: 0.0360 - val_accuracy: 1.0000\n",
            "Epoch 16/30\n",
            "18/18 [==============================] - 1s 33ms/step - loss: 0.1291 - accuracy: 0.9615 - val_loss: 0.0270 - val_accuracy: 1.0000\n",
            "Epoch 17/30\n",
            "18/18 [==============================] - 1s 29ms/step - loss: 0.1012 - accuracy: 0.9615 - val_loss: 0.0246 - val_accuracy: 1.0000\n",
            "Epoch 18/30\n",
            "18/18 [==============================] - 1s 33ms/step - loss: 0.0807 - accuracy: 0.9750 - val_loss: 0.0215 - val_accuracy: 1.0000\n",
            "Epoch 19/30\n",
            "18/18 [==============================] - 1s 29ms/step - loss: 0.0735 - accuracy: 0.9808 - val_loss: 0.0155 - val_accuracy: 1.0000\n",
            "Epoch 20/30\n",
            "18/18 [==============================] - 1s 33ms/step - loss: 0.0704 - accuracy: 0.9788 - val_loss: 0.0139 - val_accuracy: 1.0000\n",
            "Epoch 21/30\n",
            "18/18 [==============================] - 1s 32ms/step - loss: 0.0611 - accuracy: 0.9808 - val_loss: 0.0121 - val_accuracy: 1.0000\n",
            "Epoch 22/30\n",
            "18/18 [==============================] - 1s 30ms/step - loss: 0.0592 - accuracy: 0.9827 - val_loss: 0.0113 - val_accuracy: 1.0000\n",
            "Epoch 23/30\n",
            "18/18 [==============================] - 1s 31ms/step - loss: 0.0629 - accuracy: 0.9808 - val_loss: 0.0091 - val_accuracy: 1.0000\n",
            "Epoch 24/30\n",
            "18/18 [==============================] - 1s 54ms/step - loss: 0.0983 - accuracy: 0.9654 - val_loss: 0.0104 - val_accuracy: 1.0000\n",
            "Epoch 25/30\n",
            "18/18 [==============================] - 1s 53ms/step - loss: 0.0505 - accuracy: 0.9827 - val_loss: 0.0100 - val_accuracy: 1.0000\n",
            "Epoch 26/30\n",
            "18/18 [==============================] - 1s 59ms/step - loss: 0.0628 - accuracy: 0.9827 - val_loss: 0.0128 - val_accuracy: 1.0000\n",
            "Epoch 27/30\n",
            "18/18 [==============================] - 1s 63ms/step - loss: 0.0472 - accuracy: 0.9865 - val_loss: 0.0078 - val_accuracy: 1.0000\n",
            "Epoch 28/30\n",
            "18/18 [==============================] - 1s 53ms/step - loss: 0.0526 - accuracy: 0.9827 - val_loss: 0.0086 - val_accuracy: 1.0000\n",
            "Epoch 29/30\n",
            "18/18 [==============================] - 1s 33ms/step - loss: 0.0502 - accuracy: 0.9808 - val_loss: 0.0099 - val_accuracy: 1.0000\n",
            "Epoch 30/30\n",
            "18/18 [==============================] - 1s 33ms/step - loss: 0.0429 - accuracy: 0.9865 - val_loss: 0.0121 - val_accuracy: 1.0000\n"
          ]
        },
        {
          "output_type": "display_data",
          "data": {
            "text/plain": [
              "<Figure size 640x480 with 1 Axes>"
            ],
            "image/png": "[encoded data removed]"
          },
          "metadata": {}
        },
        {
          "output_type": "display_data",
          "data": {
            "text/plain": [
              "<Figure size 640x480 with 1 Axes>"
            ],
            "image/png": "[encoded data removed]"
          },
          "metadata": {}
        }
      ]
    },
    {
      "cell_type": "code",
      "metadata": {
        "id": "_5_FWSMKIn-C"
      },
      "source": [
        "lstm.save(\"LSTMmodel.h5\")\n",
        "lst=models.load_model('LSTMmodel.h5')"
      ],
      "execution_count": 53,
      "outputs": []
    },
    {
      "cell_type": "markdown",
      "metadata": {
        "id": "if1FZNAvtw6h"
      },
      "source": [
        "##Model testing and evaluation"
      ]
    },
    {
      "cell_type": "code",
      "metadata": {
        "colab": {
          "base_uri": "https://localhost:8080/"
        },
        "id": "xws0Cu8Yo1h9",
        "outputId": "aaa9b86c-bedd-46a0-b324-42ad795b514b"
      },
      "source": [
        "lstm.evaluate(X_test,Y_test)"
      ],
      "execution_count": 54,
      "outputs": [
        {
          "output_type": "stream",
          "name": "stdout",
          "text": [
            "4/4 [==============================] - 0s 17ms/step - loss: 0.0165 - accuracy: 0.9908\n"
          ]
        },
        {
          "output_type": "execute_result",
          "data": {
            "text/plain": [
              "[0.01653706096112728, 0.9908257126808167]"
            ]
          },
          "metadata": {},
          "execution_count": 54
        }
      ]
    },
    {
      "cell_type": "code",
      "metadata": {
        "colab": {
          "base_uri": "https://localhost:8080/"
        },
        "id": "cEU7dNN7upVW",
        "outputId": "1d6dc059-ae4e-4b89-9b03-407d1cb92848"
      },
      "source": [
        "y_prediction1=lstm.predict(X_test)\n",
        "y_prediction1 = [np.argmax(element)for element in y_prediction1 ]\n",
        "\n",
        "print(classification_report(Y_test,y_prediction1))\n",
        "print(confusion_matrix(Y_test , y_prediction1))\n",
        "\n",
        "roc = roc_auc_score(Y_test, lstm.predict(X_test), multi_class ='ovr')\n",
        "kappa = cohen_kappa_score(Y_test, lstm.predict(X_test).argmax(axis=1))\n",
        "\n",
        "print(\"Roc score\", roc)\n",
        "print(\"Kappa score\", kappa)\n"
      ],
      "execution_count": 61,
      "outputs": [
        {
          "output_type": "stream",
          "name": "stdout",
          "text": [
            "4/4 [==============================] - 0s 11ms/step\n",
            "              precision    recall  f1-score   support\n",
            "\n",
            "           0       1.00      1.00      1.00        19\n",
            "           1       1.00      1.00      1.00        17\n",
            "           2       1.00      1.00      1.00        18\n",
            "           3       1.00      1.00      1.00        16\n",
            "           4       0.89      1.00      0.94         8\n",
            "           5       1.00      0.88      0.93         8\n",
            "           6       1.00      1.00      1.00        23\n",
            "\n",
            "    accuracy                           0.99       109\n",
            "   macro avg       0.98      0.98      0.98       109\n",
            "weighted avg       0.99      0.99      0.99       109\n",
            "\n",
            "[[19  0  0  0  0  0  0]\n",
            " [ 0 17  0  0  0  0  0]\n",
            " [ 0  0 18  0  0  0  0]\n",
            " [ 0  0  0 16  0  0  0]\n",
            " [ 0  0  0  0  8  0  0]\n",
            " [ 0  0  0  0  1  7  0]\n",
            " [ 0  0  0  0  0  0 23]]\n",
            "4/4 [==============================] - 0s 19ms/step\n",
            "4/4 [==============================] - 0s 13ms/step\n",
            "Roc score 1.0\n",
            "Kappa score 0.9890934560736442\n"
          ]
        }
      ]
    },
    {
      "cell_type": "markdown",
      "metadata": {
        "id": "djxoVGX-2PmF"
      },
      "source": [
        "#Example: pass a video to the model"
      ]
    },
    {
      "cell_type": "code",
      "metadata": {
        "id": "HAN1FEqxuEQE",
        "colab": {
          "base_uri": "https://localhost:8080/"
        },
        "outputId": "478d85e8-cf52-4f4b-d299-1548decfa118"
      },
      "source": [
        "s='/content/drive/MyDrive/subject_6/like_04.mp4'\n",
        "cap=cv2.VideoCapture(s)\n",
        "i=0\n",
        "nb=0\n",
        "listeRL=[]\n",
        "while cap.isOpened():\n",
        "\n",
        "  imageId=cap.get(1)\n",
        "  ret,image=cap.read()\n",
        "  if ret !=True:\n",
        "    break\n",
        "\n",
        "  if imageId != 0:\n",
        "    if imageId % 4 == 0:\n",
        "      nb=nb+1\n",
        "      namefile=str(nb)+'.jpg'\n",
        "      cv2.imwrite(namefile,image)\n",
        "      image=imread(namefile)\n",
        "\n",
        "      if image.ndim==3:\n",
        "        image = cv2.GaussianBlur(image, (5,5) , 100)\n",
        "        red , green , blue = image[:,:,0] ,image[:,:,1] , image[:,:,2]\n",
        "\n",
        "\n",
        "        image_hsv = rgb2hsv(image)\n",
        "        hue = image_hsv[:,:,0]\n",
        "        sat = image_hsv[:,:,1]\n",
        "\n",
        "        image_ycbcr = rgb2ycbcr(image)\n",
        "        y = image_ycbcr[:,:,0]\n",
        "        cb = image_ycbcr[:,:,1]\n",
        "        cr = image_ycbcr[:,:,2]\n",
        "\n",
        "\n",
        "\n",
        "\n",
        "        mask = (red > 95) & (green > 40) & (blue > 20) & (red > green) & (red > blue) & (np.abs(red - green) > 15) & (cr > 135) & (cb > 85) & (y > 80) & (cr <= (1.5862*cb)+20) & (cr >= (0.3448*cb)+76.2069) & (cr >= (-4.5652*cb)+234.5652) & (cr <= (-1.15 * cb)+301.75) & (cr <= (-2.2857*cb)+432.85)\n",
        "        mask = mask.astype(np.uint8)\n",
        "        mask[mask == 1] = 255\n",
        "        np.sum(mask == 255)\n",
        "\n",
        "\n",
        "        kernel = np.ones((5,5), np.uint8)\n",
        "        mask1 = cv2.erode(mask , kernel , iterations=2)\n",
        "\n",
        "        kernel = np.ones((5,5), np.uint8)\n",
        "        image = cv2.dilate(mask1 , kernel , iterations=4)\n",
        "        #image=cv2.cvtColor(image,cv2.COLOR_GRAY2RGB)\n",
        "        image=resize(image,(128,128))\n",
        "\n",
        "        listeRL.append(image)\n",
        "\n",
        "listeRL.pop()\n"
      ],
      "execution_count": 71,
      "outputs": [
        {
          "output_type": "execute_result",
          "data": {
            "text/plain": [
              "array([[0., 0., 0., ..., 0., 0., 0.],\n",
              "       [0., 0., 0., ..., 0., 0., 0.],\n",
              "       [0., 0., 0., ..., 0., 0., 0.],\n",
              "       ...,\n",
              "       [0., 0., 0., ..., 0., 0., 0.],\n",
              "       [0., 0., 0., ..., 0., 0., 0.],\n",
              "       [0., 0., 0., ..., 0., 0., 0.]])"
            ]
          },
          "metadata": {},
          "execution_count": 71
        }
      ]
    },
    {
      "cell_type": "markdown",
      "metadata": {
        "id": "HxHtoaAK2o5P"
      },
      "source": [
        "Mettre les frames en block"
      ]
    },
    {
      "cell_type": "code",
      "metadata": {
        "id": "ye5t9NlZM4P3",
        "colab": {
          "base_uri": "https://localhost:8080/"
        },
        "outputId": "68e757c4-1bbe-4a76-cedb-1cb99117668b"
      },
      "source": [
        "listeR=[]\n",
        "listeR=np.array(listeRL).reshape(-1,128,128,1)\n",
        "\n",
        "listeRR=[]\n",
        "listeRR=listeR/255\n",
        "\n",
        "listeR=[]\n",
        "listeR=modelfeatures.predict(listeRR)\n",
        "\n",
        "listo=[]\n",
        "lis=[]\n",
        "i=0\n",
        "for ph in listeR:\n",
        "  i=i+1\n",
        "  lis.append(ph)\n",
        "  if i==6:\n",
        "    listo.append(lis)\n",
        "    i=0\n",
        "    lis=[]\n",
        "\n",
        "listeR=np.array(listo).reshape(-1,6,150)\n",
        "print(listeR.shape)"
      ],
      "execution_count": 72,
      "outputs": [
        {
          "output_type": "stream",
          "name": "stdout",
          "text": [
            "1/1 [==============================] - 0s 372ms/step\n",
            "(1, 6, 150)\n"
          ]
        }
      ]
    },
    {
      "cell_type": "code",
      "metadata": {
        "colab": {
          "base_uri": "https://localhost:8080/"
        },
        "id": "ZdYtRn0juELN",
        "outputId": "d6ba8a42-69d3-4e88-8a13-a86e47944e4f"
      },
      "source": [
        "y_pred=lstm.predict(listeR)\n",
        "print(\"probabilities list\", y_pred)\n",
        "\n",
        "ycla = [np.argmax(element)for element in y_pred ]\n",
        "i=0\n",
        "for i in ycla :\n",
        "  for j in label2int:\n",
        "    if label2int[j] == i:\n",
        "      print(j)"
      ],
      "execution_count": 73,
      "outputs": [
        {
          "output_type": "stream",
          "name": "stdout",
          "text": [
            "1/1 [==============================] - 0s 60ms/step\n",
            "probabilities list [[2.0159056e-04 7.9890341e-01 1.9421242e-01 5.7913666e-04 4.2693717e-03\n",
            "  1.6389845e-03 1.9503101e-04]]\n",
            "like\n"
          ]
        }
      ]
    }
  ]
}